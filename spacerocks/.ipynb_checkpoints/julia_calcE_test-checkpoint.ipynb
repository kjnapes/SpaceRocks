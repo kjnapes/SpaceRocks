{
 "cells": [
  {
   "cell_type": "code",
   "execution_count": 1,
   "metadata": {},
   "outputs": [],
   "source": [
    "#from julia.api import Julia\n",
    "#jl = Julia(compiled_modules=False)\n",
    "#from julia import Main\n",
    "\n",
    "from numba import jit\n",
    "import numpy as np\n",
    "from scipy.optimize import newton\n",
    "import matplotlib.pyplot as plt\n",
    "%matplotlib inline\n",
    "\n",
    "#julia_calc_E = Main.include('calc_E.jl')"
   ]
  },
  {
   "cell_type": "code",
   "execution_count": null,
   "metadata": {},
   "outputs": [],
   "source": [
    "# https://ntrs.nasa.gov/archive/nasa/casi.ntrs.nasa.gov/19950021346.pdf"
   ]
  },
  {
   "cell_type": "code",
   "execution_count": 2,
   "metadata": {},
   "outputs": [],
   "source": [
    "# export PATH=\"/Applications/Julia-1.4.app/Contents/Resources/julia/bin:$PATH\""
   ]
  },
  {
   "cell_type": "code",
   "execution_count": 13,
   "metadata": {},
   "outputs": [],
   "source": [
    "N = int(1e7)\n",
    "e = np.random.rand(N)\n",
    "M = np.random.rand(N) * 2*np.pi"
   ]
  },
  {
   "cell_type": "code",
   "execution_count": 14,
   "metadata": {},
   "outputs": [],
   "source": [
    "#E_julia = julia_calc_E(e, M)[0]"
   ]
  },
  {
   "cell_type": "code",
   "execution_count": 21,
   "metadata": {},
   "outputs": [],
   "source": [
    "def calc_E(e, M):\n",
    "    M[M > np.pi] -= 2*np.pi\n",
    "    α = (3 * np.pi**2 + 1.6 * (np.pi**2 - np.pi * abs(M))/(1 + e))/(np.pi**2 - 6)\n",
    "    d = 3 * (1 - e) + α * e\n",
    "    q = 2 * α * d * (1 - e) - M**2\n",
    "    r = 3 * α * d * (d - 1 + e) * M + M**3\n",
    "    w = (abs(r) + np.sqrt(q**3 + r**2))**(2/3)\n",
    "    E1 = (2 * r * w / (w**2 + w*q + q**2) + M)/d\n",
    "    f2 = e * np.sin(E1)\n",
    "    f3 = e * np.cos(E1)\n",
    "    f0 = E1 - f2 - M\n",
    "    f1 = 1 - f3\n",
    "    δ3 = -f0 / (f1 - f0 * f2 / (2 * f1))\n",
    "    δ4 = -f0 / (f1 + f2 * δ3 / 2 + δ3**2 * f3/6)\n",
    "    δ5 = -f0 / (f1 + δ4*f2/2 + δ4**2*f3/6 - δ4**3*f2/24)\n",
    "    \n",
    "    E = E1 + δ5\n",
    "    E[E < 0] += 2 * np.pi\n",
    "    return E"
   ]
  },
  {
   "cell_type": "code",
   "execution_count": 22,
   "metadata": {},
   "outputs": [
    {
     "name": "stdout",
     "output_type": "stream",
     "text": [
      "2.85 s ± 35.5 ms per loop (mean ± std. dev. of 7 runs, 1 loop each)\n"
     ]
    }
   ],
   "source": [
    "%%timeit\n",
    "E_py = calc_E(e, M)"
   ]
  },
  {
   "cell_type": "code",
   "execution_count": null,
   "metadata": {},
   "outputs": [],
   "source": []
  }
 ],
 "metadata": {
  "kernelspec": {
   "display_name": "Python 3",
   "language": "python",
   "name": "python3"
  },
  "language_info": {
   "codemirror_mode": {
    "name": "ipython",
    "version": 3
   },
   "file_extension": ".py",
   "mimetype": "text/x-python",
   "name": "python",
   "nbconvert_exporter": "python",
   "pygments_lexer": "ipython3",
   "version": "3.7.3"
  }
 },
 "nbformat": 4,
 "nbformat_minor": 2
}
