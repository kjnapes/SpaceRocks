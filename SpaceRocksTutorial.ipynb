{
 "cells": [
  {
   "cell_type": "markdown",
   "metadata": {},
   "source": [
    "# SpaceRocks\n",
    "\n",
    "### Vectorized coordinate transformation and ephemeris calculation with robust unit handling."
   ]
  },
  {
   "cell_type": "markdown",
   "metadata": {},
   "source": [
    "To install, simply `pip install spacerocks`"
   ]
  },
  {
   "cell_type": "code",
   "execution_count": 1,
   "metadata": {},
   "outputs": [],
   "source": [
    "from spacerocks import SpaceRock, Observe, Propagate\n",
    "import pandas as pd\n",
    "import numpy as np\n",
    "import matplotlib.pyplot as plt\n",
    "from astropy.coordinates import SkyCoord\n",
    "from astropy.time import Time\n",
    "from astropy import units as u\n",
    "%matplotlib inline"
   ]
  },
  {
   "cell_type": "markdown",
   "metadata": {},
   "source": [
    "You can also pass in just a single object or an array of objects. I'll try all of the TNOs reported to the MPC. I specified an observatory code, so a topocentric correction will be applied to the Earth's position."
   ]
  },
  {
   "cell_type": "markdown",
   "metadata": {},
   "source": [
    "### Analyzing all of the TNOs in the MPC"
   ]
  },
  {
   "cell_type": "code",
   "execution_count": 9,
   "metadata": {},
   "outputs": [],
   "source": [
    "TNOs = pd.read_json('/Users/kjnapier/Desktop/distant_extended.json')\n",
    "rocks = SpaceRock(a=TNOs.a.values, \n",
    "                  e=TNOs.e.values, \n",
    "                  inc=TNOs.i.values, \n",
    "                  arg=TNOs.Peri.values, \n",
    "                  node=TNOs.Node.values, \n",
    "                  t_peri=TNOs.Tp.values, \n",
    "                  epoch=TNOs.Epoch.values,\n",
    "                  #H=TNOs.H.values, \n",
    "                  name=TNOs.Principal_desig.values.astype(str),\n",
    "                  input_coordinates='keplerian',\n",
    "                  input_frame='heliocentric',\n",
    "                  input_angles='degrees')\n",
    "\n",
    "p = Propagate(rocks, 2458634.5, model=5)\n",
    "\n",
    "obs_decam = Observe(p, obscode='W84', NSIDE=[128])\n",
    "obs_magellan = Observe(p, obscode=304, NSIDE=[256])\n",
    "obs_geocenter = Observe(p)"
   ]
  },
  {
   "cell_type": "code",
   "execution_count": 10,
   "metadata": {},
   "outputs": [
    {
     "data": {
      "text/html": [
       "<i>Table length=3767</i>\n",
       "<table id=\"table4886914888\" class=\"table-striped table-bordered table-condensed\">\n",
       "<thead><tr><th>delta</th><th>ltt</th><th>dec</th><th>ra</th><th>phase_angle</th><th>elong</th><th>skycoord</th><th>name</th><th>epoch</th></tr></thead>\n",
       "<thead><tr><th>AU</th><th>yr</th><th>rad</th><th>rad</th><th>rad</th><th>rad</th><th>deg,deg</th><th></th><th></th></tr></thead>\n",
       "<thead><tr><th>float64</th><th>float64</th><th>float64</th><th>float64</th><th>float64</th><th>float64</th><th>object</th><th>str10</th><th>object</th></tr></thead>\n",
       "<tr><td>3.0393394167188275</td><td>4.8059577047826455e-05</td><td>0.598062862826065</td><td>2.8433515949267187</td><td>0.3308349454089687</td><td>1.4402435915359397</td><td>162.91204606109224,34.26647792344502</td><td>A920 UB</td><td>2458634.5</td></tr>\n",
       "<tr><td>19.206446682588012</td><td>0.00030370208048474836</td><td>0.08444249865327752</td><td>0.059146283599703864</td><td>0.0481319166951975</td><td>1.1130755047288967</td><td>3.3888324241468695,4.83819878437194</td><td>1977 UB</td><td>2458634.5</td></tr>\n",
       "<tr><td>27.33222446985265</td><td>0.00043219100195642657</td><td>-0.18603426966431819</td><td>4.741954629955255</td><td>0.0156740893180399</td><td>2.6866947384336464</td><td>271.6939869389562,-10.658978496564075</td><td>1992 AD</td><td>2458634.5</td></tr>\n",
       "<tr><td>19.488009670238164</td><td>0.0003081542973132976</td><td>0.11351362300207937</td><td>5.647503353258812</td><td>0.05042385277955176</td><td>1.7443823740481452</td><td>323.57810692770994,6.503851515258289</td><td>1991 DA</td><td>2458634.5</td></tr>\n",
       "<tr><td>28.71784959253447</td><td>0.0004541012094760665</td><td>-0.3294638972300884</td><td>6.066420464581149</td><td>0.03508643283737943</td><td>1.5303018247422198</td><td>347.58028937229193,-18.876890813215958</td><td>1993 HA2</td><td>2458634.5</td></tr>\n",
       "<tr><td>23.186850529490034</td><td>0.0003666422458079652</td><td>0.6835255273103354</td><td>1.3351000730209392</td><td>0.014919004227522025</td><td>0.33557930425362364</td><td>76.49559941170784,39.16312790433631</td><td>1995 GO</td><td>2458634.5</td></tr>\n",
       "<tr><td>15.4356081720721</td><td>0.0002440756685959784</td><td>-0.4438371036332328</td><td>5.173459326034287</td><td>0.04419512341475052</td><td>2.3538041783981534</td><td>296.41738486436,-25.429992829494775</td><td>1997 CU26</td><td>2458634.5</td></tr>\n",
       "<tr><td>23.473937925150803</td><td>0.00037118181737911724</td><td>-0.32508505252737036</td><td>4.956758406293244</td><td>0.023614615923649645</td><td>2.535378079237787</td><td>284.00133674659503,-18.626001492606996</td><td>1995 DW2</td><td>2458634.5</td></tr>\n",
       "<tr><td>14.53839956864636</td><td>0.00022988855090615403</td><td>0.7981745368605601</td><td>2.6238868820240966</td><td>0.0666099373577064</td><td>1.2224115530509094</td><td>150.33764425972169,45.73203227691925</td><td>1999 RG33</td><td>2458634.5</td></tr>\n",
       "<tr><td>...</td><td>...</td><td>...</td><td>...</td><td>...</td><td>...</td><td>...</td><td>...</td><td>...</td></tr>\n",
       "<tr><td>3.3959724643923574</td><td>5.3698839756751075e-05</td><td>0.3979754343082561</td><td>4.042143033669809</td><td>0.17863629437277073</td><td>2.320728066687722</td><td>231.5977360174871,22.80231273574902</td><td>2019 HC4</td><td>2458634.5</td></tr>\n",
       "<tr><td>5.339851455871983</td><td>8.443644071331736e-05</td><td>0.21774365815950583</td><td>3.385922734920772</td><td>0.1523612779471496</td><td>2.054436328588262</td><td>193.99908246835324,12.475792628279015</td><td>2019 KK1</td><td>2458634.5</td></tr>\n",
       "<tr><td>4.844271966153892</td><td>7.66000863599949e-05</td><td>0.46132962832291935</td><td>3.054053529100669</td><td>0.20051584392251035</td><td>1.6619833473926577</td><td>174.98437762450288,26.432240667242205</td><td>2019 KO3</td><td>2458634.5</td></tr>\n",
       "<tr><td>5.215170669292083</td><td>8.246492485166041e-05</td><td>0.27255604962447644</td><td>3.144484313530226</td><td>0.1764554516610088</td><td>1.8248845615267708</td><td>180.16567991037385,15.616311324240726</td><td>2019 KV4</td><td>2458634.5</td></tr>\n",
       "<tr><td>4.807807532349249</td><td>7.602349223026406e-05</td><td>0.30581525712046637</td><td>5.703425401079002</td><td>0.20441136743001337</td><td>1.6170102508434887</td><td>326.78220424953565,17.52192354371082</td><td>2019 KG5</td><td>2458634.5</td></tr>\n",
       "<tr><td>2.7533907385916194</td><td>4.3538011456111554e-05</td><td>-0.08010615928049063</td><td>4.334110860694583</td><td>0.08002599278497625</td><td>2.841302251721704</td><td>248.3262602596123,-4.589744839774844</td><td>2019 KE7</td><td>2458634.5</td></tr>\n",
       "<tr><td>2.090196169378331</td><td>3.305124241627362e-05</td><td>-0.35177584838722653</td><td>4.510417878539663</td><td>0.06099801024228068</td><td>2.9537740513395656</td><td>258.427908280673,-20.155271447222006</td><td>2019 KF7</td><td>2458634.5</td></tr>\n",
       "<tr><td>4.8518960438867245</td><td>7.672064214563836e-05</td><td>0.2494885941155513</td><td>5.632404882400877</td><td>0.19775310901856455</td><td>1.7024945058553165</td><td>322.713028270449,14.294643479473516</td><td>2019 LM</td><td>2458634.5</td></tr>\n",
       "<tr><td>3.15208801804911</td><td>4.9842415141808464e-05</td><td>0.14215177500850437</td><td>0.3572396317368378</td><td>0.2898556459215018</td><td>0.8169630563658866</td><td>20.468323173328585,8.144696758280553</td><td>2019 LB7</td><td>2458634.5</td></tr>\n",
       "<tr><td>4.812883461428283</td><td>7.610375539643803e-05</td><td>0.38021520119800406</td><td>3.8507582864900414</td><td>0.1418132188011921</td><td>2.258491789891323</td><td>220.6321977409081,21.784726335363075</td><td>2019 MP3</td><td>2458634.5</td></tr>\n",
       "</table>"
      ],
      "text/plain": [
       "<Table length=3767>\n",
       "      delta                 ltt           ...    name     epoch  \n",
       "        AU                   yr           ...                    \n",
       "     float64              float64         ...   str10     object \n",
       "------------------ ---------------------- ... --------- ---------\n",
       "3.0393394167188275 4.8059577047826455e-05 ...   A920 UB 2458634.5\n",
       "19.206446682588012 0.00030370208048474836 ...   1977 UB 2458634.5\n",
       " 27.33222446985265 0.00043219100195642657 ...   1992 AD 2458634.5\n",
       "19.488009670238164  0.0003081542973132976 ...   1991 DA 2458634.5\n",
       " 28.71784959253447  0.0004541012094760665 ...  1993 HA2 2458634.5\n",
       "23.186850529490034  0.0003666422458079652 ...   1995 GO 2458634.5\n",
       "  15.4356081720721  0.0002440756685959784 ... 1997 CU26 2458634.5\n",
       "23.473937925150803 0.00037118181737911724 ...  1995 DW2 2458634.5\n",
       " 14.53839956864636 0.00022988855090615403 ... 1999 RG33 2458634.5\n",
       "               ...                    ... ...       ...       ...\n",
       "3.3959724643923574 5.3698839756751075e-05 ...  2019 HC4 2458634.5\n",
       " 5.339851455871983  8.443644071331736e-05 ...  2019 KK1 2458634.5\n",
       " 4.844271966153892   7.66000863599949e-05 ...  2019 KO3 2458634.5\n",
       " 5.215170669292083  8.246492485166041e-05 ...  2019 KV4 2458634.5\n",
       " 4.807807532349249  7.602349223026406e-05 ...  2019 KG5 2458634.5\n",
       "2.7533907385916194 4.3538011456111554e-05 ...  2019 KE7 2458634.5\n",
       " 2.090196169378331  3.305124241627362e-05 ...  2019 KF7 2458634.5\n",
       "4.8518960438867245  7.672064214563836e-05 ...   2019 LM 2458634.5\n",
       "  3.15208801804911 4.9842415141808464e-05 ...  2019 LB7 2458634.5\n",
       " 4.812883461428283  7.610375539643803e-05 ...  2019 MP3 2458634.5"
      ]
     },
     "execution_count": 10,
     "metadata": {},
     "output_type": "execute_result"
    }
   ],
   "source": [
    "obs_geocenter.astropy_table()"
   ]
  },
  {
   "cell_type": "code",
   "execution_count": 23,
   "metadata": {},
   "outputs": [],
   "source": [
    "rocks = rocks[rocks.e > 0.001]"
   ]
  },
  {
   "cell_type": "code",
   "execution_count": 24,
   "metadata": {},
   "outputs": [],
   "source": [
    "rocks2 = SpaceRock(x=rocks.x.value, \n",
    "                   y=rocks.y.value, \n",
    "                   z=rocks.z.value, \n",
    "                   vx=rocks.vx.value, \n",
    "                   vy=rocks.vy.value, \n",
    "                   vz=rocks.vz.value,\n",
    "                   epoch=rocks.epoch.jd,\n",
    "                   H=rocks.H, \n",
    "                   name=rocks.name,\n",
    "                   input_coordinates='cartesian',\n",
    "                   input_frame='heliocentric',\n",
    "                   input_angles='degrees')"
   ]
  },
  {
   "cell_type": "markdown",
   "metadata": {},
   "source": [
    "---"
   ]
  }
 ],
 "metadata": {
  "kernelspec": {
   "display_name": "Python 3",
   "language": "python",
   "name": "python3"
  },
  "language_info": {
   "codemirror_mode": {
    "name": "ipython",
    "version": 3
   },
   "file_extension": ".py",
   "mimetype": "text/x-python",
   "name": "python",
   "nbconvert_exporter": "python",
   "pygments_lexer": "ipython3",
   "version": "3.7.3"
  }
 },
 "nbformat": 4,
 "nbformat_minor": 2
}
