{
 "cells": [
  {
   "cell_type": "markdown",
   "metadata": {},
   "source": [
    "# SpaceRocks\n",
    "\n",
    "### Vectorized coordinate transformation and ephemeris calculation with robust unit handling."
   ]
  },
  {
   "cell_type": "markdown",
   "metadata": {},
   "source": [
    "To install, simply `pip install spacerocks`"
   ]
  },
  {
   "cell_type": "code",
   "execution_count": null,
   "metadata": {},
   "outputs": [],
   "source": [
    "from spacerocks import Units, SpaceRock, Observe, Propagate\n",
    "import pandas as pd\n",
    "import numpy as np\n",
    "import matplotlib.pyplot as plt\n",
    "from astropy.coordinates import SkyCoord\n",
    "from astropy.time import Time\n",
    "from astropy import units as u\n",
    "%matplotlib inline"
   ]
  },
  {
   "cell_type": "code",
   "execution_count": null,
   "metadata": {},
   "outputs": [],
   "source": [
    "{‘a’: 81.48404137238033,\n",
    " ‘e’: 0.7094507249841506,\n",
    " ‘i’: 37.132857449687194,\n",
    " ‘lan’: 167.6781294110762,\n",
    " ‘aop’: 214.62054824981132,\n",
    " ‘top’: 2457115.3524901397}\n",
    "\n",
    "{‘a’: 2.261165508330344e-05,\n",
    " ‘adot’: 0.0626425293290428,\n",
    " ‘b’: -1.427200794683609e-05,\n",
    " ‘bdot’: -0.03955374150304765,\n",
    " ‘g’: 0.04386010793151914,\n",
    " ‘gdot’: 0.00034576080057385533}\n",
    "t0 = 2456916.7656669617"
   ]
  },
  {
   "cell_type": "code",
   "execution_count": 21,
   "metadata": {},
   "outputs": [
    {
     "name": "stdout",
     "output_type": "stream",
     "text": [
      "Default Units:\n",
      "Quantity             Unit           \n",
      "---------------------------------------\n",
      "distance             AU             \n",
      "angle                deg            \n",
      "timescale            utc            \n",
      "timeformat           None           \n",
      "speed                AU / d         \n",
      "rotation_period      d              \n",
      "\n",
      "\n",
      "User-Modified Units\n",
      "Quantity             Unit           \n",
      "---------------------------------------\n",
      "distance             AU             \n",
      "angle                deg            \n",
      "timescale            utc            \n",
      "timeformat           jd             \n",
      "speed                AU / d         \n",
      "rotation_period      d              \n"
     ]
    },
    {
     "data": {
      "text/plain": [
       "<spacerocks.spacerocks.SpaceRock at 0x7fb35dbd0580>"
      ]
     },
     "execution_count": 21,
     "metadata": {},
     "output_type": "execute_result"
    }
   ],
   "source": [
    "from spacerocks import Units, SpaceRock\n",
    "import pandas as pd\n",
    "\n",
    "units = Units()\n",
    "print('Default Units:')\n",
    "units.current()\n",
    " \n",
    "print('\\n\\nUser-Modified Units')\n",
    "units.timeformat = 'jd'\n",
    "units.current()\n",
    "\n",
    "r = SpaceRock(a=81.48404137238033, \n",
    "              e=0.7094507249841506, \n",
    "              inc=37.132857449687194, \n",
    "              arg=214.62054824981132, \n",
    "              node=167.6781294110762, \n",
    "              t_peri=2457115.3524901397, \n",
    "              epoch=2456916.7656669617,\n",
    "              name='2014 SK378',\n",
    "              input_frame='barycentric',\n",
    "              units=units)"
   ]
  },
  {
   "cell_type": "code",
   "execution_count": 22,
   "metadata": {},
   "outputs": [],
   "source": [
    "from skyfield.api import Topos, Loader"
   ]
  },
  {
   "cell_type": "code",
   "execution_count": 23,
   "metadata": {},
   "outputs": [],
   "source": [
    "load = Loader('./Skyfield-Data', expire=False, verbose=False)\n",
    "ts = load.timescale()\n",
    "planets = load('de423.bsp')\n",
    "earth = planets['earth']"
   ]
  },
  {
   "cell_type": "code",
   "execution_count": 24,
   "metadata": {},
   "outputs": [],
   "source": [
    "def ecl_to_tel(x_ec, y_ec, z_ec, l0, b0):\n",
    "    '''\n",
    "    This is right\n",
    "    '''\n",
    "    sl = np.sin(l0)\n",
    "    cl = np.cos(l0)\n",
    "    sb = np.sin(b0)\n",
    "    cb = np.cos(b0)\n",
    "\n",
    "    xT = -sl*x_ec + cl*y_ec\n",
    "    yT = -cl*sb*x_ec -sl*sb*y_ec + cb*z_ec\n",
    "    zT = cl*cb*x_ec + sl*cb*y_ec + sb*z_ec\n",
    "\n",
    "    return xT, yT, zT"
   ]
  },
  {
   "cell_type": "code",
   "execution_count": 28,
   "metadata": {},
   "outputs": [
    {
     "data": {
      "text/plain": [
       "array([[ 1.71428939e-03],\n",
       "       [ 1.72202410e-02],\n",
       "       [-8.73047092e-05]])"
      ]
     },
     "execution_count": 28,
     "metadata": {},
     "output_type": "execute_result"
    }
   ],
   "source": [
    "earth = planets['earth']\n",
    "earth += Topos('30.169 S', '70.804 W', elevation_m=2200)\n",
    "ee = earth.at(t)\n",
    "ee.ecliptic_velocity().au_per_d"
   ]
  },
  {
   "cell_type": "code",
   "execution_count": 29,
   "metadata": {},
   "outputs": [
    {
     "data": {
      "text/plain": [
       "array([[ 1.79294821e-03],\n",
       "       [ 1.70194469e-02],\n",
       "       [-3.83407985e-07]])"
      ]
     },
     "execution_count": 29,
     "metadata": {},
     "output_type": "execute_result"
    }
   ],
   "source": [
    "earth = planets['earth']\n",
    "ee = earth.at(t)\n",
    "ee.ecliptic_velocity().au_per_d"
   ]
  },
  {
   "cell_type": "code",
   "execution_count": 30,
   "metadata": {},
   "outputs": [],
   "source": [
    "o = Observe(r, obscode='W84')\n",
    "l = o.ecliptic_longitude\n",
    "b = o.ecliptic_latitude\n",
    "\n",
    "t = ts.tt(jd=r.epoch.tt.jd)\n",
    "earth = planets['earth']\n",
    "earth += Topos('30.169 S', '70.804 W', elevation_m=2200)\n",
    "\n",
    "ee = earth.at(t)\n",
    "\n",
    "x0, y0, z0 = ee.ecliptic_xyz().au * u.au\n",
    "vx0, vy0, vz0 = ee.ecliptic_velocity().au_per_d * u.au / u.d\n",
    "\n",
    "xT, yT, zT = ecl_to_tel(r.x - x0, r.y - y0, r.z - z0, l, b)\n",
    "vxT, vyT, vzT = ecl_to_tel(r.vx - vx0, r.vy - vy0, r.vz - vz0, l, b)\n",
    "\n",
    "gamma = 1/zT\n",
    "alpha = gamma * xT\n",
    "beta = gamma * yT\n",
    "dalpha = gamma * vxT\n",
    "dbeta = gamma * vyT\n",
    "dgamma = gamma * vzT"
   ]
  },
  {
   "cell_type": "code",
   "execution_count": 31,
   "metadata": {},
   "outputs": [
    {
     "name": "stdout",
     "output_type": "stream",
     "text": [
      "[2.25882917e-05] [-1.42356282e-05] [0.04385654] 1 / AU\n",
      "2.261165508330344e-05 -1.427200794683609e-05 0.04386010793151914\n"
     ]
    }
   ],
   "source": [
    "print(alpha, beta, gamma)\n",
    "print(2.261165508330344e-05, -1.427200794683609e-05, 0.04386010793151914)"
   ]
  },
  {
   "cell_type": "code",
   "execution_count": 32,
   "metadata": {},
   "outputs": [
    {
     "name": "stdout",
     "output_type": "stream",
     "text": [
      "[-0.00052678] 1 / d [-0.00020055] 1 / d [-0.00025799] 1 / d\n",
      "0.0626425293290428 -0.03955374150304765 0.00034576080057385533\n"
     ]
    }
   ],
   "source": [
    "print(dalpha, dbeta, dgamma)\n",
    "print(0.0626425293290428, -0.03955374150304765, 0.00034576080057385533)"
   ]
  },
  {
   "cell_type": "code",
   "execution_count": 5,
   "metadata": {},
   "outputs": [],
   "source": [
    "r.calc_abg(obscode='W84')"
   ]
  },
  {
   "cell_type": "code",
   "execution_count": 6,
   "metadata": {},
   "outputs": [
    {
     "data": {
      "text/latex": [
       "$[-0.0005362499] \\; \\mathrm{\\frac{1}{d}}$"
      ],
      "text/plain": [
       "<Quantity [-0.00053625] 1 / d>"
      ]
     },
     "execution_count": 6,
     "metadata": {},
     "output_type": "execute_result"
    }
   ],
   "source": [
    "r.dalpha"
   ]
  },
  {
   "cell_type": "code",
   "execution_count": null,
   "metadata": {},
   "outputs": [],
   "source": [
    "1/0.044507228"
   ]
  },
  {
   "cell_type": "markdown",
   "metadata": {},
   "source": [
    "You can also pass in just a single object or an array of objects. I'll try all of the TNOs reported to the MPC. I specified an observatory code, so a topocentric correction will be applied to the Earth's position."
   ]
  },
  {
   "cell_type": "markdown",
   "metadata": {},
   "source": [
    "### Analyzing all of the TNOs in the MPC"
   ]
  },
  {
   "cell_type": "code",
   "execution_count": null,
   "metadata": {},
   "outputs": [],
   "source": [
    "TNOs = pd.read_json('https://minorplanetcenter.net/Extended_Files/distant_extended.json.gz')\n",
    "#TNOs = TNOs[TNOs.Principal_desig.values.astype(str) == '2015 BP519']\n",
    "rocks = SpaceRock(a=TNOs.a.values, \n",
    "                  e=TNOs.e.values, \n",
    "                  inc=TNOs.i.values, \n",
    "                  arg=TNOs.Peri.values, \n",
    "                  node=TNOs.Node.values, \n",
    "                  t_peri=TNOs.Tp.values, \n",
    "                  epoch=TNOs.Epoch.values,\n",
    "                  H=TNOs.H.values, \n",
    "                  name=TNOs.Principal_desig.values,\n",
    "                  delta_H = np.random.rand(len(TNOs)),\n",
    "                  rotation_period = np.random.uniform(0.2, 0.5, len(TNOs)),\n",
    "                  phi0 = np.random.rand(len(TNOs)) * 2 * np.pi,\n",
    "                  input_frame='heliocentric',\n",
    "                  units=units)\n",
    "\n",
    "#p = Propagate(rocks, np.linspace(2378480.5, 2378490.5, 10), model=5)\n",
    "\n",
    "#obs_decam = Observe(p, obscode='W84', NSIDE=[128])\n",
    "#obs_magellan = Observe(p, obscode=304, NSIDE=[256])\n",
    "#obs_geocenter = Observe(p)"
   ]
  },
  {
   "cell_type": "code",
   "execution_count": null,
   "metadata": {},
   "outputs": [],
   "source": [
    "rocks.__dict__"
   ]
  },
  {
   "cell_type": "code",
   "execution_count": null,
   "metadata": {},
   "outputs": [],
   "source": [
    "fig, ax = plt.subplots(figsize=(12, 8))\n",
    "ax.plot(obs_decam.epoch.jd, obs_decam.mag, color='black', zorder=1)\n",
    "#ax.plot(obs_decam_norot.epoch.jd, obs_decam_norot.mag, color='red', zorder=2)\n",
    "ax.set_ylabel('Apparent Magnitude', fontsize=14, labelpad=20)\n",
    "ax.set_xlabel('JD', fontsize=14, labelpad=10)\n",
    "#ax.set_xlim([2378480.5, 2378490.5])\n",
    "#ax.set_ylim([27, 27.5])"
   ]
  },
  {
   "cell_type": "code",
   "execution_count": null,
   "metadata": {},
   "outputs": [],
   "source": [
    "obs_decam.astropy_table()"
   ]
  },
  {
   "cell_type": "code",
   "execution_count": null,
   "metadata": {},
   "outputs": [],
   "source": [
    "rarate = obs_geocenter.ra_rate.to(u.arcsec / u.hour)\n",
    "decrate = obs_geocenter.dec_rate.to(u.arcsec / u.hour)"
   ]
  },
  {
   "cell_type": "code",
   "execution_count": null,
   "metadata": {},
   "outputs": [],
   "source": [
    "np.sqrt(rarate**2 + decrate**2)"
   ]
  },
  {
   "cell_type": "code",
   "execution_count": null,
   "metadata": {},
   "outputs": [],
   "source": [
    "fig, ax = plt.subplots(figsize=(12, 8))\n",
    "_ = ax.hist(np.sqrt(rarate**2 + decrate**2).value, bins=100)\n",
    "ax.set_xlabel(r'Rate of motion (arcsec per hour)', fontsize=14, labelpad=10)"
   ]
  },
  {
   "cell_type": "code",
   "execution_count": null,
   "metadata": {},
   "outputs": [],
   "source": [
    "rocks = rocks[rocks.e > 0.001]"
   ]
  },
  {
   "cell_type": "code",
   "execution_count": null,
   "metadata": {},
   "outputs": [],
   "source": [
    "rocks2 = SpaceRock(x=rocks.x.value, \n",
    "                   y=rocks.y.value, \n",
    "                   z=rocks.z.value, \n",
    "                   vx=rocks.vx.value, \n",
    "                   vy=rocks.vy.value, \n",
    "                   vz=rocks.vz.value,\n",
    "                   epoch=rocks.epoch.jd,\n",
    "                   H=rocks.H, \n",
    "                   name=rocks.name,\n",
    "                   input_coordinates='cartesian',\n",
    "                   input_frame='heliocentric',\n",
    "                   input_angles='degrees')"
   ]
  },
  {
   "cell_type": "code",
   "execution_count": null,
   "metadata": {},
   "outputs": [],
   "source": [
    "from astroquery.jplhorizons import Horizons"
   ]
  },
  {
   "cell_type": "code",
   "execution_count": null,
   "metadata": {},
   "outputs": [],
   "source": [
    "Nyears = 10\n",
    "startdate = Time('2017-01-01', scale='utc', format='iso')\n",
    "testdates = Time(np.arange(startdate.jd, startdate.jd + Nyears*365.25, 1), scale='utc', format='jd' )\n",
    "tno_id = 'Ceres'\n",
    "TNO_Horizons = Horizons(id=tno_id)\n",
    "elements = TNO_Horizons.elements()[0]\n",
    "ephem_Horizons = Horizons(id=tno_id, location='W84',\n",
    "                          epochs={'start':testdates[0].iso, 'stop':testdates[-1].iso, 'step':'1d'}).ephemerides()\n",
    "TNO = SpaceRock(a=elements['a'],\n",
    "                e=elements['e'],\n",
    "                inc=elements['incl'],\n",
    "                arg=elements['w'],\n",
    "                node=elements['Omega'],\n",
    "                t_peri=elements['Tp_jd'],\n",
    "                epoch=elements['datetime_jd'],\n",
    "                name=[tno_id],\n",
    "                input_frame='heliocentric',\n",
    "                units=units)\n",
    "TNO_prop = Propagate(TNO, obsdates=testdates.jd, model=5)\n",
    "TNO_predict = Observe(TNO_prop, obscode='W84')\n",
    "pos_Horizons = SkyCoord(ephem_Horizons['RA'], ephem_Horizons['DEC'], frame='icrs', unit=(u.deg, u.deg))\n",
    "pos_pred = SkyCoord(TNO_predict.ra.deg, TNO_predict.dec.deg, frame='icrs', unit=(u.deg, u.deg))\n",
    "sep = pos_pred.separation(pos_Horizons)"
   ]
  },
  {
   "cell_type": "code",
   "execution_count": null,
   "metadata": {},
   "outputs": [],
   "source": [
    "elem = Horizons(id=tno_id, epochs={'start':testdates[0].iso, 'stop':testdates[-1].iso, 'step':'1d'}).elements()"
   ]
  },
  {
   "cell_type": "code",
   "execution_count": null,
   "metadata": {},
   "outputs": [],
   "source": [
    "TNO_prop.epoch[0]"
   ]
  },
  {
   "cell_type": "code",
   "execution_count": null,
   "metadata": {},
   "outputs": [],
   "source": [
    "elem['a'][0]"
   ]
  },
  {
   "cell_type": "code",
   "execution_count": null,
   "metadata": {},
   "outputs": [],
   "source": [
    "print(elem['datetime_jd'][0], TNO_prop.epoch[0])"
   ]
  },
  {
   "cell_type": "code",
   "execution_count": null,
   "metadata": {},
   "outputs": [],
   "source": [
    "fig, ax = plt.subplots(figsize=(18, 6))\n",
    "ax.scatter((testdates.jd - testdates.jd[0])/365.25, elem['a'], color='black', s=50)\n",
    "ax.scatter((testdates.jd - testdates.jd[0])/365.25, TNO_prop.a, color='red', s=10)\n",
    "ax.set_xlabel('JD', fontsize=14)\n",
    "ax.set_ylabel('a', fontsize=14)\n",
    "ax.set_xlim([0, Nyears]);"
   ]
  },
  {
   "cell_type": "code",
   "execution_count": null,
   "metadata": {},
   "outputs": [],
   "source": [
    "fig, ax = plt.subplots(figsize=(18, 6))\n",
    "ax.scatter((testdates.jd - testdates.jd[0])/365.25, elem['incl'], color='black', s=50)\n",
    "ax.scatter((testdates.jd - testdates.jd[0])/365.25, TNO_prop.inc.deg, color='red', s=10)\n",
    "ax.set_xlabel('JD', fontsize=14)\n",
    "ax.set_ylabel('inc', fontsize=14)\n",
    "ax.set_xlim([0, Nyears]);"
   ]
  },
  {
   "cell_type": "code",
   "execution_count": null,
   "metadata": {},
   "outputs": [],
   "source": [
    "fig, ax = plt.subplots(figsize=(18, 6))\n",
    "ax.scatter((testdates.jd - testdates.jd[0])/365.25, elem['e'], color='black', s=50)\n",
    "ax.scatter((testdates.jd - testdates.jd[0])/365.25, TNO_prop.e, color='red', s=10)\n",
    "ax.set_xlabel('JD', fontsize=14)\n",
    "ax.set_ylabel('inc', fontsize=14)\n",
    "ax.set_xlim([0, Nyears]);"
   ]
  },
  {
   "cell_type": "code",
   "execution_count": null,
   "metadata": {},
   "outputs": [],
   "source": [
    "fig, ax = plt.subplots(figsize=(18, 6))\n",
    "ax.scatter((testdates.jd - testdates.jd[0])/365.25, (elem['incl'] - TNO_prop.inc.deg), color='black', s=1)\n",
    "ax.set_xlabel('JD', fontsize=14)\n",
    "ax.set_ylabel('inc residuals (arcsec)', fontsize=14)\n",
    "ax.set_xlim([0, Nyears]);"
   ]
  },
  {
   "cell_type": "code",
   "execution_count": null,
   "metadata": {},
   "outputs": [],
   "source": [
    "fig, ax = plt.subplots(figsize=(18, 6))\n",
    "ax.scatter((testdates.jd - testdates.jd[0])/365.25, (elem['a'] - TNO_prop.a), color='black', s=1)\n",
    "ax.set_xlabel('JD', fontsize=14)\n",
    "ax.set_ylabel('a residual', fontsize=14)\n",
    "ax.set_xlim([0, Nyears]);"
   ]
  },
  {
   "cell_type": "code",
   "execution_count": null,
   "metadata": {},
   "outputs": [],
   "source": [
    "fig, ax = plt.subplots(2, 1, figsize=(18, 12))\n",
    "ax[0].scatter((testdates.jd - testdates.jd[0])/365.25, ephem_Horizons['RA_rate'], color='black', s=50)\n",
    "ax[0].scatter((testdates.jd - testdates.jd[0])/365.25, TNO_predict.ra_rate.to(u.arcsec/u.h), color='red', s=10)\n",
    "ax[0].set_xlabel('JD', fontsize=14)\n",
    "ax[0].set_ylabel('ra rate (arcsec/h)', fontsize=14)\n",
    "ax[0].set_xlim([0, Nyears]);\n",
    "\n",
    "ax[1].scatter((testdates.jd - testdates.jd[0])/365.25, ephem_Horizons['DEC_rate'], color='black', s=50)\n",
    "ax[1].scatter((testdates.jd - testdates.jd[0])/365.25, TNO_predict.dec_rate.to(u.arcsec/u.h), color='red', s=10)\n",
    "ax[1].set_xlabel('JD', fontsize=14)\n",
    "ax[1].set_ylabel('dec rate (arcsec/h)', fontsize=14)\n",
    "ax[1].set_xlim([0, Nyears]);"
   ]
  },
  {
   "cell_type": "code",
   "execution_count": null,
   "metadata": {},
   "outputs": [],
   "source": [
    "fig, ax = plt.subplots(2, 1, figsize=(18, 12))\n",
    "ax[0].scatter((testdates.jd - testdates.jd[0])/365.25, \n",
    "              ephem_Horizons['RA_rate'] - TNO_predict.ra_rate.to(u.arcsec/u.h), color='black', s=1)\n",
    "ax[0].set_xlabel('JD', fontsize=14)\n",
    "ax[0].set_ylabel('ra rate (arcsec/h)', fontsize=14)\n",
    "ax[0].set_xlim([0, Nyears]);\n",
    "\n",
    "ax[1].scatter((testdates.jd - testdates.jd[0])/365.25, \n",
    "              ephem_Horizons['DEC_rate'] - TNO_predict.dec_rate.to(u.arcsec/u.h), color='black', s=1)\n",
    "ax[1].set_xlabel('JD', fontsize=14)\n",
    "ax[1].set_ylabel('dec rate (arcsec/h)', fontsize=14)\n",
    "ax[1].set_xlim([0, Nyears]);"
   ]
  },
  {
   "cell_type": "code",
   "execution_count": null,
   "metadata": {},
   "outputs": [],
   "source": [
    "fig, ax = plt.subplots(figsize=(18, 6))\n",
    "ax.scatter((testdates.jd - testdates.jd[0])/365.25, sep.arcsec, color='black', s=1)\n",
    "ax.set_xlabel('JD', fontsize=14)\n",
    "ax.set_ylabel('Diff Horizons - SpaceRocks', fontsize=14)\n",
    "ax.set_xlim([0, Nyears]);"
   ]
  },
  {
   "cell_type": "code",
   "execution_count": null,
   "metadata": {},
   "outputs": [],
   "source": [
    "fig, ax = plt.subplots(figsize=(18, 6))\n",
    "ax.scatter((testdates.jd - testdates.jd[0])/365.25, ephem_Horizons['elong'], color='black', s=50)\n",
    "ax.scatter((testdates.jd - testdates.jd[0])/365.25, TNO_predict.elong.deg, color='red', s=10)\n",
    "ax.set_xlabel('JD', fontsize=14)\n",
    "ax.set_ylabel('Solar Elongation Angle', fontsize=14)\n",
    "ax.set_xlim([0, Nyears]);"
   ]
  },
  {
   "cell_type": "code",
   "execution_count": null,
   "metadata": {},
   "outputs": [],
   "source": [
    "fig, ax = plt.subplots(figsize=(18, 6))\n",
    "ax.scatter((testdates.jd - testdates.jd[0])/365.25, \n",
    "           ephem_Horizons['elong'] - TNO_predict.elong.deg, color='black', s=1)\n",
    "ax.set_xlabel('JD', fontsize=14)\n",
    "ax.set_ylabel('Solar Elongation Angle Residual (deg)', fontsize=14)\n",
    "ax.set_xlim([0, Nyears]);"
   ]
  },
  {
   "cell_type": "code",
   "execution_count": null,
   "metadata": {},
   "outputs": [],
   "source": [
    "fig, ax = plt.subplots(figsize=(18, 6))\n",
    "ax.scatter((testdates.jd - testdates.jd[0])/365.25, ephem_Horizons['delta'], color='black', s=50)\n",
    "ax.scatter((testdates.jd - testdates.jd[0])/365.25, TNO_predict.delta, color='red', s=10)\n",
    "\n",
    "ax.set_xlabel('JD', fontsize=14)\n",
    "ax.set_ylabel('Earth Distance', fontsize=14)\n",
    "ax.set_xlim([0, Nyears]);"
   ]
  },
  {
   "cell_type": "code",
   "execution_count": null,
   "metadata": {},
   "outputs": [],
   "source": [
    "fig, ax = plt.subplots(figsize=(18, 6))\n",
    "\n",
    "ax.scatter((testdates.jd - testdates.jd[0])/365.25, \n",
    "           (TNO_predict.delta - ephem_Horizons['delta']).to(u.km), color='black', s=1)\n",
    "\n",
    "ax.set_xlabel('JD', fontsize=14)\n",
    "ax.set_ylabel('Earth Distance Residuals (km)', fontsize=14)\n",
    "ax.set_xlim([0, Nyears]);\n",
    "#ax.set_ylim([0, 200]);"
   ]
  },
  {
   "cell_type": "code",
   "execution_count": null,
   "metadata": {},
   "outputs": [],
   "source": [
    "fig, ax = plt.subplots(figsize=(18, 6))\n",
    "ax.scatter((testdates.jd - testdates.jd[0])/365.25, ephem_Horizons['RA'], color='black', s=50)\n",
    "ax.scatter((testdates.jd - testdates.jd[0])/365.25, TNO_predict.ra.deg, color='red', s=10)\n",
    "ax.set_xlabel('JD', fontsize=14)\n",
    "ax.set_ylabel('ra', fontsize=14)\n",
    "ax.set_xlim([0, Nyears]);"
   ]
  },
  {
   "cell_type": "code",
   "execution_count": null,
   "metadata": {},
   "outputs": [],
   "source": [
    "fig, ax = plt.subplots(figsize=(18, 6))\n",
    "ax.scatter((testdates.jd - testdates.jd[0])/365.25, \n",
    "           (ephem_Horizons['RA'] - TNO_predict.ra.deg) * 3600, color='black', s=1)\n",
    "ax.set_xlabel('JD', fontsize=14)\n",
    "ax.set_ylabel('ra residuals (arcsec)', fontsize=14)\n",
    "ax.set_xlim([0, Nyears]);"
   ]
  },
  {
   "cell_type": "code",
   "execution_count": null,
   "metadata": {},
   "outputs": [],
   "source": [
    "fig, ax = plt.subplots(figsize=(18, 6))\n",
    "ax.scatter((testdates.jd - testdates.jd[0])/365.25, ephem_Horizons['DEC'], color='black', s=50)\n",
    "ax.scatter((testdates.jd - testdates.jd[0])/365.25, TNO_predict.dec.deg, color='red', s=10)\n",
    "ax.set_xlabel('JD', fontsize=14)\n",
    "ax.set_ylabel('dec', fontsize=14)\n",
    "ax.set_xlim([0, Nyears]);"
   ]
  },
  {
   "cell_type": "code",
   "execution_count": null,
   "metadata": {},
   "outputs": [],
   "source": [
    "fig, ax = plt.subplots(figsize=(18, 6))\n",
    "ax.scatter((testdates.jd - testdates.jd[0])/365.25, \n",
    "           (ephem_Horizons['DEC'] - TNO_predict.dec.deg) * 3600, color='black', s=1)\n",
    "ax.set_xlabel('JD', fontsize=14)\n",
    "ax.set_ylabel('dec residuals (arcsec)', fontsize=14)\n",
    "ax.set_xlim([0, Nyears]);"
   ]
  },
  {
   "cell_type": "markdown",
   "metadata": {},
   "source": [
    "---"
   ]
  }
 ],
 "metadata": {
  "kernelspec": {
   "display_name": "Python 3",
   "language": "python",
   "name": "python3"
  },
  "language_info": {
   "codemirror_mode": {
    "name": "ipython",
    "version": 3
   },
   "file_extension": ".py",
   "mimetype": "text/x-python",
   "name": "python",
   "nbconvert_exporter": "python",
   "pygments_lexer": "ipython3",
   "version": "3.8.6"
  }
 },
 "nbformat": 4,
 "nbformat_minor": 2
}
