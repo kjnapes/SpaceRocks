{
 "cells": [
  {
   "cell_type": "markdown",
   "metadata": {},
   "source": [
    "# SpaceRocks\n",
    "\n",
    "### Vectorized coordinate transformation and ephemeris calculation with robust unit handling."
   ]
  },
  {
   "cell_type": "markdown",
   "metadata": {},
   "source": [
    "To install, simply `pip install spacerocks`"
   ]
  },
  {
   "cell_type": "code",
   "execution_count": 1,
   "metadata": {},
   "outputs": [
    {
     "ename": "FileNotFoundError",
     "evalue": "[Errno 2] File b'observatories.csv' does not exist: b'observatories.csv'",
     "output_type": "error",
     "traceback": [
      "\u001b[0;31m---------------------------------------------------------------------------\u001b[0m",
      "\u001b[0;31mFileNotFoundError\u001b[0m                         Traceback (most recent call last)",
      "\u001b[0;32m<ipython-input-1-fae1f7bae00e>\u001b[0m in \u001b[0;36m<module>\u001b[0;34m\u001b[0m\n\u001b[0;32m----> 1\u001b[0;31m \u001b[0;32mfrom\u001b[0m \u001b[0mspacerocks\u001b[0m \u001b[0;32mimport\u001b[0m \u001b[0mSpaceRock\u001b[0m\u001b[0;34m\u001b[0m\u001b[0;34m\u001b[0m\u001b[0m\n\u001b[0m\u001b[1;32m      2\u001b[0m \u001b[0;32mimport\u001b[0m \u001b[0mnumpy\u001b[0m \u001b[0;32mas\u001b[0m \u001b[0mnp\u001b[0m\u001b[0;34m\u001b[0m\u001b[0;34m\u001b[0m\u001b[0m\n",
      "\u001b[0;32m~/research/spacerocks/spacerocks/__init__.py\u001b[0m in \u001b[0;36m<module>\u001b[0;34m\u001b[0m\n\u001b[1;32m      2\u001b[0m \u001b[0m__author__\u001b[0m \u001b[0;34m=\u001b[0m \u001b[0;34m'Kevin Napier'\u001b[0m\u001b[0;34m\u001b[0m\u001b[0;34m\u001b[0m\u001b[0m\n\u001b[1;32m      3\u001b[0m \u001b[0;34m\u001b[0m\u001b[0m\n\u001b[0;32m----> 4\u001b[0;31m \u001b[0;32mfrom\u001b[0m \u001b[0;34m.\u001b[0m\u001b[0mspacerocks\u001b[0m \u001b[0;32mimport\u001b[0m \u001b[0mSpaceRock\u001b[0m\u001b[0;34m\u001b[0m\u001b[0;34m\u001b[0m\u001b[0m\n\u001b[0m\u001b[1;32m      5\u001b[0m \u001b[0;32mfrom\u001b[0m \u001b[0;34m.\u001b[0m\u001b[0mlinalg3d\u001b[0m \u001b[0;32mimport\u001b[0m \u001b[0;34m*\u001b[0m\u001b[0;34m\u001b[0m\u001b[0;34m\u001b[0m\u001b[0m\n",
      "\u001b[0;32m~/research/spacerocks/spacerocks/spacerocks.py\u001b[0m in \u001b[0;36m<module>\u001b[0;34m\u001b[0m\n\u001b[1;32m     31\u001b[0m \u001b[0;34m\u001b[0m\u001b[0m\n\u001b[1;32m     32\u001b[0m \u001b[0;31m# Read in the observatory codes file and rehash as a dataframe.\u001b[0m\u001b[0;34m\u001b[0m\u001b[0;34m\u001b[0m\u001b[0;34m\u001b[0m\u001b[0m\n\u001b[0;32m---> 33\u001b[0;31m \u001b[0mobservatories\u001b[0m \u001b[0;34m=\u001b[0m \u001b[0mpd\u001b[0m\u001b[0;34m.\u001b[0m\u001b[0mread_csv\u001b[0m\u001b[0;34m(\u001b[0m\u001b[0;34m'observatories.csv'\u001b[0m\u001b[0;34m)\u001b[0m\u001b[0;34m\u001b[0m\u001b[0;34m\u001b[0m\u001b[0m\n\u001b[0m\u001b[1;32m     34\u001b[0m \u001b[0;34m\u001b[0m\u001b[0m\n\u001b[1;32m     35\u001b[0m \u001b[0;31m# Load in planets for ephemeride calculation.\u001b[0m\u001b[0;34m\u001b[0m\u001b[0;34m\u001b[0m\u001b[0;34m\u001b[0m\u001b[0m\n",
      "\u001b[0;32m/usr/local/bin/anaconda/lib/python3.7/site-packages/pandas/io/parsers.py\u001b[0m in \u001b[0;36mparser_f\u001b[0;34m(filepath_or_buffer, sep, delimiter, header, names, index_col, usecols, squeeze, prefix, mangle_dupe_cols, dtype, engine, converters, true_values, false_values, skipinitialspace, skiprows, skipfooter, nrows, na_values, keep_default_na, na_filter, verbose, skip_blank_lines, parse_dates, infer_datetime_format, keep_date_col, date_parser, dayfirst, iterator, chunksize, compression, thousands, decimal, lineterminator, quotechar, quoting, doublequote, escapechar, comment, encoding, dialect, tupleize_cols, error_bad_lines, warn_bad_lines, delim_whitespace, low_memory, memory_map, float_precision)\u001b[0m\n\u001b[1;32m    700\u001b[0m                     skip_blank_lines=skip_blank_lines)\n\u001b[1;32m    701\u001b[0m \u001b[0;34m\u001b[0m\u001b[0m\n\u001b[0;32m--> 702\u001b[0;31m         \u001b[0;32mreturn\u001b[0m \u001b[0m_read\u001b[0m\u001b[0;34m(\u001b[0m\u001b[0mfilepath_or_buffer\u001b[0m\u001b[0;34m,\u001b[0m \u001b[0mkwds\u001b[0m\u001b[0;34m)\u001b[0m\u001b[0;34m\u001b[0m\u001b[0;34m\u001b[0m\u001b[0m\n\u001b[0m\u001b[1;32m    703\u001b[0m \u001b[0;34m\u001b[0m\u001b[0m\n\u001b[1;32m    704\u001b[0m     \u001b[0mparser_f\u001b[0m\u001b[0;34m.\u001b[0m\u001b[0m__name__\u001b[0m \u001b[0;34m=\u001b[0m \u001b[0mname\u001b[0m\u001b[0;34m\u001b[0m\u001b[0;34m\u001b[0m\u001b[0m\n",
      "\u001b[0;32m/usr/local/bin/anaconda/lib/python3.7/site-packages/pandas/io/parsers.py\u001b[0m in \u001b[0;36m_read\u001b[0;34m(filepath_or_buffer, kwds)\u001b[0m\n\u001b[1;32m    427\u001b[0m \u001b[0;34m\u001b[0m\u001b[0m\n\u001b[1;32m    428\u001b[0m     \u001b[0;31m# Create the parser.\u001b[0m\u001b[0;34m\u001b[0m\u001b[0;34m\u001b[0m\u001b[0;34m\u001b[0m\u001b[0m\n\u001b[0;32m--> 429\u001b[0;31m     \u001b[0mparser\u001b[0m \u001b[0;34m=\u001b[0m \u001b[0mTextFileReader\u001b[0m\u001b[0;34m(\u001b[0m\u001b[0mfilepath_or_buffer\u001b[0m\u001b[0;34m,\u001b[0m \u001b[0;34m**\u001b[0m\u001b[0mkwds\u001b[0m\u001b[0;34m)\u001b[0m\u001b[0;34m\u001b[0m\u001b[0;34m\u001b[0m\u001b[0m\n\u001b[0m\u001b[1;32m    430\u001b[0m \u001b[0;34m\u001b[0m\u001b[0m\n\u001b[1;32m    431\u001b[0m     \u001b[0;32mif\u001b[0m \u001b[0mchunksize\u001b[0m \u001b[0;32mor\u001b[0m \u001b[0miterator\u001b[0m\u001b[0;34m:\u001b[0m\u001b[0;34m\u001b[0m\u001b[0;34m\u001b[0m\u001b[0m\n",
      "\u001b[0;32m/usr/local/bin/anaconda/lib/python3.7/site-packages/pandas/io/parsers.py\u001b[0m in \u001b[0;36m__init__\u001b[0;34m(self, f, engine, **kwds)\u001b[0m\n\u001b[1;32m    893\u001b[0m             \u001b[0mself\u001b[0m\u001b[0;34m.\u001b[0m\u001b[0moptions\u001b[0m\u001b[0;34m[\u001b[0m\u001b[0;34m'has_index_names'\u001b[0m\u001b[0;34m]\u001b[0m \u001b[0;34m=\u001b[0m \u001b[0mkwds\u001b[0m\u001b[0;34m[\u001b[0m\u001b[0;34m'has_index_names'\u001b[0m\u001b[0;34m]\u001b[0m\u001b[0;34m\u001b[0m\u001b[0;34m\u001b[0m\u001b[0m\n\u001b[1;32m    894\u001b[0m \u001b[0;34m\u001b[0m\u001b[0m\n\u001b[0;32m--> 895\u001b[0;31m         \u001b[0mself\u001b[0m\u001b[0;34m.\u001b[0m\u001b[0m_make_engine\u001b[0m\u001b[0;34m(\u001b[0m\u001b[0mself\u001b[0m\u001b[0;34m.\u001b[0m\u001b[0mengine\u001b[0m\u001b[0;34m)\u001b[0m\u001b[0;34m\u001b[0m\u001b[0;34m\u001b[0m\u001b[0m\n\u001b[0m\u001b[1;32m    896\u001b[0m \u001b[0;34m\u001b[0m\u001b[0m\n\u001b[1;32m    897\u001b[0m     \u001b[0;32mdef\u001b[0m \u001b[0mclose\u001b[0m\u001b[0;34m(\u001b[0m\u001b[0mself\u001b[0m\u001b[0;34m)\u001b[0m\u001b[0;34m:\u001b[0m\u001b[0;34m\u001b[0m\u001b[0;34m\u001b[0m\u001b[0m\n",
      "\u001b[0;32m/usr/local/bin/anaconda/lib/python3.7/site-packages/pandas/io/parsers.py\u001b[0m in \u001b[0;36m_make_engine\u001b[0;34m(self, engine)\u001b[0m\n\u001b[1;32m   1120\u001b[0m     \u001b[0;32mdef\u001b[0m \u001b[0m_make_engine\u001b[0m\u001b[0;34m(\u001b[0m\u001b[0mself\u001b[0m\u001b[0;34m,\u001b[0m \u001b[0mengine\u001b[0m\u001b[0;34m=\u001b[0m\u001b[0;34m'c'\u001b[0m\u001b[0;34m)\u001b[0m\u001b[0;34m:\u001b[0m\u001b[0;34m\u001b[0m\u001b[0;34m\u001b[0m\u001b[0m\n\u001b[1;32m   1121\u001b[0m         \u001b[0;32mif\u001b[0m \u001b[0mengine\u001b[0m \u001b[0;34m==\u001b[0m \u001b[0;34m'c'\u001b[0m\u001b[0;34m:\u001b[0m\u001b[0;34m\u001b[0m\u001b[0;34m\u001b[0m\u001b[0m\n\u001b[0;32m-> 1122\u001b[0;31m             \u001b[0mself\u001b[0m\u001b[0;34m.\u001b[0m\u001b[0m_engine\u001b[0m \u001b[0;34m=\u001b[0m \u001b[0mCParserWrapper\u001b[0m\u001b[0;34m(\u001b[0m\u001b[0mself\u001b[0m\u001b[0;34m.\u001b[0m\u001b[0mf\u001b[0m\u001b[0;34m,\u001b[0m \u001b[0;34m**\u001b[0m\u001b[0mself\u001b[0m\u001b[0;34m.\u001b[0m\u001b[0moptions\u001b[0m\u001b[0;34m)\u001b[0m\u001b[0;34m\u001b[0m\u001b[0;34m\u001b[0m\u001b[0m\n\u001b[0m\u001b[1;32m   1123\u001b[0m         \u001b[0;32melse\u001b[0m\u001b[0;34m:\u001b[0m\u001b[0;34m\u001b[0m\u001b[0;34m\u001b[0m\u001b[0m\n\u001b[1;32m   1124\u001b[0m             \u001b[0;32mif\u001b[0m \u001b[0mengine\u001b[0m \u001b[0;34m==\u001b[0m \u001b[0;34m'python'\u001b[0m\u001b[0;34m:\u001b[0m\u001b[0;34m\u001b[0m\u001b[0;34m\u001b[0m\u001b[0m\n",
      "\u001b[0;32m/usr/local/bin/anaconda/lib/python3.7/site-packages/pandas/io/parsers.py\u001b[0m in \u001b[0;36m__init__\u001b[0;34m(self, src, **kwds)\u001b[0m\n\u001b[1;32m   1851\u001b[0m         \u001b[0mkwds\u001b[0m\u001b[0;34m[\u001b[0m\u001b[0;34m'usecols'\u001b[0m\u001b[0;34m]\u001b[0m \u001b[0;34m=\u001b[0m \u001b[0mself\u001b[0m\u001b[0;34m.\u001b[0m\u001b[0musecols\u001b[0m\u001b[0;34m\u001b[0m\u001b[0;34m\u001b[0m\u001b[0m\n\u001b[1;32m   1852\u001b[0m \u001b[0;34m\u001b[0m\u001b[0m\n\u001b[0;32m-> 1853\u001b[0;31m         \u001b[0mself\u001b[0m\u001b[0;34m.\u001b[0m\u001b[0m_reader\u001b[0m \u001b[0;34m=\u001b[0m \u001b[0mparsers\u001b[0m\u001b[0;34m.\u001b[0m\u001b[0mTextReader\u001b[0m\u001b[0;34m(\u001b[0m\u001b[0msrc\u001b[0m\u001b[0;34m,\u001b[0m \u001b[0;34m**\u001b[0m\u001b[0mkwds\u001b[0m\u001b[0;34m)\u001b[0m\u001b[0;34m\u001b[0m\u001b[0;34m\u001b[0m\u001b[0m\n\u001b[0m\u001b[1;32m   1854\u001b[0m         \u001b[0mself\u001b[0m\u001b[0;34m.\u001b[0m\u001b[0munnamed_cols\u001b[0m \u001b[0;34m=\u001b[0m \u001b[0mself\u001b[0m\u001b[0;34m.\u001b[0m\u001b[0m_reader\u001b[0m\u001b[0;34m.\u001b[0m\u001b[0munnamed_cols\u001b[0m\u001b[0;34m\u001b[0m\u001b[0;34m\u001b[0m\u001b[0m\n\u001b[1;32m   1855\u001b[0m \u001b[0;34m\u001b[0m\u001b[0m\n",
      "\u001b[0;32mpandas/_libs/parsers.pyx\u001b[0m in \u001b[0;36mpandas._libs.parsers.TextReader.__cinit__\u001b[0;34m()\u001b[0m\n",
      "\u001b[0;32mpandas/_libs/parsers.pyx\u001b[0m in \u001b[0;36mpandas._libs.parsers.TextReader._setup_parser_source\u001b[0;34m()\u001b[0m\n",
      "\u001b[0;31mFileNotFoundError\u001b[0m: [Errno 2] File b'observatories.csv' does not exist: b'observatories.csv'"
     ]
    }
   ],
   "source": [
    "from spacerocks import SpaceRock\n",
    "import numpy as np"
   ]
  },
  {
   "cell_type": "markdown",
   "metadata": {},
   "source": [
    "You can also pass in just a single object or an array of objects. I'll try BP519. Here I've turned on precision. This involves a non-vectorized solution to Kepler's equation to calculate the eccentric anomaly, and a topocentric correction to the Earth's position. Right now, only DECam is supported, but I'm working on implementing an obscode feature."
   ]
  },
  {
   "cell_type": "code",
   "execution_count": 2,
   "metadata": {
    "scrolled": false
   },
   "outputs": [],
   "source": [
    "BP = SpaceRock(a=4.487673062316562E+02, \n",
    "               e=9.214543710796702E-01, \n",
    "               inc=5.411068217470999E+01, \n",
    "               arg=3.480587931444684E+02, \n",
    "               node=1.352131434907198E+02, \n",
    "               epoch=2.473015776611103E+06, \n",
    "               tau=2458982.5,\n",
    "               H=4.5, \n",
    "               name='BP',\n",
    "               precise=True,\n",
    "               input_coordinates='keplerian',\n",
    "               input_frame='barycentric',\n",
    "               input_angles='degrees',\n",
    "               obscode=None)"
   ]
  },
  {
   "cell_type": "code",
   "execution_count": 3,
   "metadata": {},
   "outputs": [],
   "source": [
    "in_data, out_data = BP.propagate(np.array([2458981.5, 2458983.5]))"
   ]
  },
  {
   "cell_type": "code",
   "execution_count": 4,
   "metadata": {},
   "outputs": [
    {
     "data": {
      "text/html": [
       "<div>\n",
       "<style scoped>\n",
       "    .dataframe tbody tr th:only-of-type {\n",
       "        vertical-align: middle;\n",
       "    }\n",
       "\n",
       "    .dataframe tbody tr th {\n",
       "        vertical-align: top;\n",
       "    }\n",
       "\n",
       "    .dataframe thead th {\n",
       "        text-align: right;\n",
       "    }\n",
       "</style>\n",
       "<table border=\"1\" class=\"dataframe\">\n",
       "  <thead>\n",
       "    <tr style=\"text-align: right;\">\n",
       "      <th></th>\n",
       "      <th>name</th>\n",
       "      <th>a</th>\n",
       "      <th>e</th>\n",
       "      <th>inc</th>\n",
       "      <th>arg</th>\n",
       "      <th>node</th>\n",
       "      <th>varpi</th>\n",
       "      <th>epoch</th>\n",
       "      <th>M</th>\n",
       "      <th>tau</th>\n",
       "      <th>...</th>\n",
       "      <th>vz</th>\n",
       "      <th>ra</th>\n",
       "      <th>dec</th>\n",
       "      <th>delta</th>\n",
       "      <th>ltt</th>\n",
       "      <th>phase_angle</th>\n",
       "      <th>elong</th>\n",
       "      <th>r</th>\n",
       "      <th>H</th>\n",
       "      <th>mag</th>\n",
       "    </tr>\n",
       "  </thead>\n",
       "  <tbody>\n",
       "    <tr>\n",
       "      <th>0</th>\n",
       "      <td>BP</td>\n",
       "      <td>448.767310</td>\n",
       "      <td>0.921454</td>\n",
       "      <td>0.94441</td>\n",
       "      <td>6.074772</td>\n",
       "      <td>2.359915</td>\n",
       "      <td>2.151501</td>\n",
       "      <td>2.473016e+06</td>\n",
       "      <td>6.257774</td>\n",
       "      <td>2458981.5</td>\n",
       "      <td>...</td>\n",
       "      <td>0.001769</td>\n",
       "      <td>1.191740</td>\n",
       "      <td>-0.546574</td>\n",
       "      <td>52.016791</td>\n",
       "      <td>0.000823</td>\n",
       "      <td>0.015611</td>\n",
       "      <td>0.921327</td>\n",
       "      <td>51.413602</td>\n",
       "      <td>4.5</td>\n",
       "      <td>21.636108</td>\n",
       "    </tr>\n",
       "    <tr>\n",
       "      <th>1</th>\n",
       "      <td>BP</td>\n",
       "      <td>448.767303</td>\n",
       "      <td>0.921454</td>\n",
       "      <td>0.94441</td>\n",
       "      <td>6.074772</td>\n",
       "      <td>2.359915</td>\n",
       "      <td>2.151501</td>\n",
       "      <td>2.473016e+06</td>\n",
       "      <td>6.257777</td>\n",
       "      <td>2458983.5</td>\n",
       "      <td>...</td>\n",
       "      <td>0.001770</td>\n",
       "      <td>1.192571</td>\n",
       "      <td>-0.546309</td>\n",
       "      <td>52.015771</td>\n",
       "      <td>0.000822</td>\n",
       "      <td>0.015579</td>\n",
       "      <td>0.918266</td>\n",
       "      <td>51.409983</td>\n",
       "      <td>4.5</td>\n",
       "      <td>21.635912</td>\n",
       "    </tr>\n",
       "  </tbody>\n",
       "</table>\n",
       "<p>2 rows × 25 columns</p>\n",
       "</div>"
      ],
      "text/plain": [
       "  name           a         e      inc       arg      node     varpi  \\\n",
       "0   BP  448.767310  0.921454  0.94441  6.074772  2.359915  2.151501   \n",
       "1   BP  448.767303  0.921454  0.94441  6.074772  2.359915  2.151501   \n",
       "\n",
       "          epoch         M        tau  ...        vz        ra       dec  \\\n",
       "0  2.473016e+06  6.257774  2458981.5  ...  0.001769  1.191740 -0.546574   \n",
       "1  2.473016e+06  6.257777  2458983.5  ...  0.001770  1.192571 -0.546309   \n",
       "\n",
       "       delta       ltt  phase_angle     elong          r    H        mag  \n",
       "0  52.016791  0.000823     0.015611  0.921327  51.413602  4.5  21.636108  \n",
       "1  52.015771  0.000822     0.015579  0.918266  51.409983  4.5  21.635912  \n",
       "\n",
       "[2 rows x 25 columns]"
      ]
     },
     "execution_count": 4,
     "metadata": {},
     "output_type": "execute_result"
    }
   ],
   "source": [
    "BP.pandas_df()"
   ]
  },
  {
   "cell_type": "code",
   "execution_count": 5,
   "metadata": {},
   "outputs": [
    {
     "data": {
      "text/plain": [
       "(hms_tuple(h=array([4., 4.]), m=array([33., 33.]), s=array([ 7.60498809, 19.03213512])),\n",
       " dms_tuple(d=array([-31., -31.]), m=array([-18., -18.]), s=array([-58.96100771,  -4.29532377])))"
      ]
     },
     "execution_count": 5,
     "metadata": {},
     "output_type": "execute_result"
    }
   ],
   "source": [
    "BP.ra.hms, BP.dec.dms"
   ]
  },
  {
   "cell_type": "code",
   "execution_count": 6,
   "metadata": {},
   "outputs": [],
   "source": [
    "# geo    04 33 13.31    -31 18 31.2"
   ]
  },
  {
   "cell_type": "code",
   "execution_count": null,
   "metadata": {},
   "outputs": [],
   "source": [
    "# 304    04 33 13.30    -31 18 31.1"
   ]
  },
  {
   "cell_type": "code",
   "execution_count": null,
   "metadata": {},
   "outputs": [],
   "source": [
    "# Heliocentric:\n",
    "# $$SOE\n",
    "# 2458982.500000000 = A.D. 2020-May-13 00:00:00.0000 TDB \n",
    "#  EC= 9.185882992879753E-01 QR= 3.523356471548343E+01 IN= 5.413121974184833E+01\n",
    "#  OM= 1.350508167296842E+02 W = 3.482436748740575E+02 Tp=  2473051.139603628777\n",
    "#  N = 1.094710888927695E-04 MA= 3.584598907033508E+02 TA= 2.900481869338853E+02\n",
    "#  A = 4.327825657409375E+02 AD= 8.303315667663916E+02 PR= 3.288539500622232E+06\n",
    "#  \n",
    "# $$SOE\n",
    "# 2458982.500000000, A.D. 2020-May-13 00:00:00.0000,  \n",
    "# X=1.581128776843651E+01,  \n",
    "# Y=2.633376991276546E+01, \n",
    "# Z=-4.122491761199618E+01, \n",
    "# VX=-2.646197309780768E-03,  \n",
    "# VY=8.339351467639426E-04,  \n",
    "# VZ=1.769284602526467E-03\n",
    "#  \n",
    "# Barycentric:\n",
    "# 2458982.500000000 = A.D. 2020-May-13 00:00:00.0000 TDB \n",
    "#  EC= 9.214543710796702E-01 QR= 3.524871030684755E+01 IN= 5.411068217470999E+01\n",
    "#  OM= 1.352131434907198E+02 W = 3.480587931444684E+02 Tp=  2473015.776611103211\n",
    "#  N = 1.037441078395607E-04 MA= 3.585441302379153E+02 TA= 2.901471338857519E+02\n",
    "#  A = 4.487673062316562E+02 AD= 8.622859021564648E+02 PR= 3.470076590342235E+06\n",
    "#  \n",
    "# $$SOE\n",
    "# 2458982.500000000, A.D. 2020-May-13 00:00:00.0000,  \n",
    "# X=1.580639409220872E+01,  \n",
    "# Y=2.634085915326679E+01, \n",
    "# Z=-4.122486401689469E+01, \n",
    "# VX=-2.654346366438451E-03,  \n",
    "# VY=8.305911427892275E-04,  \n",
    "# VZ=1.769516671619466E-03\n",
    "\n",
    "# Geocentric\n",
    "#Date__(UT)__HR:MN     R.A._____(ICRF)_____DEC  APmag            delta      deldot    S-O-T /r    S-T-O\n",
    "#2020-May-12 00:00     04 33 07.61 -31 18 58.9  21.78 52.0167906889203  -0.5927296  52.7826 /T   0.8969\n",
    "#2020-May-13 00:00     04 33 13.31 -31 18 31.2  21.78 52.0163645443357  -0.8830999  52.6951 /T   0.8961\n",
    "#2020-May-14 00:00     04 33 19.04 -31 18 04.3  21.78 52.0157704551808  -1.1742870  52.6191 /T   0.8954"
   ]
  },
  {
   "cell_type": "code",
   "execution_count": 5,
   "metadata": {},
   "outputs": [
    {
     "name": "stderr",
     "output_type": "stream",
     "text": [
      "/usr/local/bin/anaconda/lib/python3.7/site-packages/astropy/units/quantity.py:481: RuntimeWarning: invalid value encountered in arccos\n",
      "  result = super().__array_ufunc__(function, method, *arrays, **kwargs)\n"
     ]
    },
    {
     "name": "stdout",
     "output_type": "stream",
     "text": [
      "2.64 s ± 80.9 ms per loop (mean ± std. dev. of 7 runs, 1 loop each)\n"
     ]
    }
   ],
   "source": [
    "%%timeit\n",
    "N = 1000\n",
    "rocks = SpaceRock(a=np.random.uniform(30, 40, N), \n",
    "                  e=np.random.uniform(0, 0.999, N), \n",
    "                  inc=np.random.rayleigh(np.pi/6, N), \n",
    "                  arg=np.random.uniform(0, 2*np.pi, N), \n",
    "                  node=np.random.uniform(0, 2*np.pi, N), \n",
    "                  epoch=np.random.uniform(2473015.5, 2483015.5, N),\n",
    "                  tau=2458982.5 + np.random.rand(N)*365,\n",
    "                  H=np.random.uniform(4, 7, N), \n",
    "                  name=['rock{}'.format(idx) for idx in range(N)],\n",
    "                  precise=True,\n",
    "                  input_coordinates='keplerian',\n",
    "                  input_frame='barycentric',\n",
    "                  input_angles='degrees')\n",
    "\n",
    "in_data, out_data = rocks.propagate(2459982.5)"
   ]
  },
  {
   "cell_type": "code",
   "execution_count": 3,
   "metadata": {},
   "outputs": [],
   "source": [
    "import pandas as pd\n",
    "from astropy.coordinates import earth\n",
    "pd.options.mode.chained_assignment = None\n",
    "\n",
    "observatories = pd.read_json('/Users/kjnapier/research/spacerocks/spacerocks/obscodes_extended.json').T\n",
    "observatories['obscode'] = observatories.index\n",
    "todrop = observatories[observatories.Latitude.isnull().values].index\n",
    "observatories = observatories.drop(todrop)\n",
    "observatories['Latitude'] = np.degrees(observatories.Latitude.values.astype(float))\n",
    "observatories['Longitude'][observatories.Longitude.values > 180] -= 360\n",
    "observatories = observatories.rename(columns={'Latitude': 'lat',\n",
    "                                              'Longitude': 'lon',\n",
    "                                              'Geocentric_dist': 'geocentric_dist',\n",
    "                                              'Name': 'name'})\n",
    "observatories = observatories.drop(columns=['cos', 'sin'])\n",
    "\n",
    "elevations = np.zeros(len(observatories))\n",
    "# This function isn't vectorized???\n",
    "for idx in range(len(observatories)):\n",
    "    x, y, z = earth.EarthLocation(lat=observatories.lat.values[idx],\n",
    "                                  lon=observatories.lon.values[idx],\n",
    "                                  height=0).value\n",
    "    ellipsoid_edge = np.sqrt(x**2 + y**2 + z**2)\n",
    "    elevations[idx] = 6378137 * observatories.geocentric_dist.values[idx] - ellipsoid_edge\n",
    "\n",
    "observatories['elevation'] = elevations\n",
    "observatories = observatories.drop(columns=['geocentric_dist'])\n",
    "observatories = observatories[['obscode', 'lat', 'lon', 'elevation', 'name']]\n",
    "#observatories['lat'] = [str(abs(ii)) + ' N' if ii > 0 else str(abs(ii)) + ' S' \\\n",
    "#                        for ii in observatories.lat]\n",
    "#observatories['lon'] = [str(abs(ii)) + ' E' if ii > 0 else str(abs(ii)) + ' W' \\\n",
    "#                        for ii in observatories.lon]\n",
    "observatories.to_csv('/Users/kjnapier/research/spacerocks/spacerocks/observatories.csv', index=False)\n"
   ]
  },
  {
   "cell_type": "code",
   "execution_count": null,
   "metadata": {},
   "outputs": [],
   "source": []
  }
 ],
 "metadata": {
  "kernelspec": {
   "display_name": "Python 3",
   "language": "python",
   "name": "python3"
  }
 },
 "nbformat": 4,
 "nbformat_minor": 2
}
