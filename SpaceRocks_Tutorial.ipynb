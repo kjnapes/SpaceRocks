{
 "cells": [
  {
   "cell_type": "markdown",
   "metadata": {},
   "source": [
    "# SpaceRocks\n",
    "\n",
    "### Vectorized coordinate transformation and ephemeris calculation with robust unit handling."
   ]
  },
  {
   "cell_type": "markdown",
   "metadata": {},
   "source": [
    "To install, simply `pip install spacerocks`"
   ]
  },
  {
   "cell_type": "code",
   "execution_count": 1,
   "metadata": {},
   "outputs": [],
   "source": [
    "from spacerocks import SpaceRock, Propagate\n",
    "import pandas as pd\n",
    "import numpy as np\n",
    "import matplotlib.pyplot as plt\n",
    "%matplotlib inline"
   ]
  },
  {
   "cell_type": "markdown",
   "metadata": {},
   "source": [
    "You can also pass in just a single object or an array of objects. I'll try BP519. I specified an observatory code, so a topocentric correction will be applied to the Earth's position."
   ]
  },
  {
   "cell_type": "code",
   "execution_count": 2,
   "metadata": {},
   "outputs": [],
   "source": [
    "df = pd.read_json('/Users/kjnapier/Desktop/mpcorb_extended.json')\n",
    "df = df[df.Orbit_type == 'Jupiter Trojan']\n",
    "df = df[df.Num_opps > 4]"
   ]
  },
  {
   "cell_type": "code",
   "execution_count": 3,
   "metadata": {},
   "outputs": [],
   "source": [
    "rocks = SpaceRock(a=df.a.values, \n",
    "                  e=df.e.values, \n",
    "                  inc=df.i.values, \n",
    "                  arg=df.Peri.values, \n",
    "                  node=df.Node.values, \n",
    "                  t_peri=df.Tp.values, \n",
    "                  obsdate=df.Epoch.values,\n",
    "                  H=df.H.values, \n",
    "                  name=df.Principal_desig.values.astype(str),\n",
    "                  input_coordinates='keplerian',\n",
    "                  input_frame='heliocentric',\n",
    "                  input_angles='degrees',\n",
    "                  obscode=None,\n",
    "                  calc_equa=True)"
   ]
  },
  {
   "cell_type": "code",
   "execution_count": 4,
   "metadata": {},
   "outputs": [],
   "source": [
    "futobs = Propagate(rocks, obsdates=np.array([2459003.5, 2459004.5]), model=5, gr=False, add_pluto=False)"
   ]
  },
  {
   "cell_type": "code",
   "execution_count": 5,
   "metadata": {},
   "outputs": [
    {
     "data": {
      "text/latex": [
       "[$0.399957\\mathrm{rad}$ $3.66423\\mathrm{rad}$ $0.22001\\mathrm{rad}$ ...\n",
       " $4.47263\\mathrm{rad}$ $5.95725\\mathrm{rad}$ $0.470347\\mathrm{rad}$]"
      ],
      "text/plain": [
       "<Angle [0.3999566 , 3.66422869, 0.2200105 , ..., 4.47263397, 5.95724854,\n",
       "        0.47034673] rad>"
      ]
     },
     "execution_count": 5,
     "metadata": {},
     "output_type": "execute_result"
    }
   ],
   "source": [
    "futobs.ra"
   ]
  },
  {
   "cell_type": "code",
   "execution_count": 4,
   "metadata": {},
   "outputs": [],
   "source": [
    "import ipywidgets as widgets\n",
    "from ipywidgets import interact, interact_manual"
   ]
  },
  {
   "cell_type": "code",
   "execution_count": 5,
   "metadata": {
    "scrolled": true
   },
   "outputs": [
    {
     "data": {
      "application/vnd.jupyter.widget-view+json": {
       "model_id": "5e1920314901434dabc6b236bd984c09",
       "version_major": 2,
       "version_minor": 0
      },
      "text/plain": [
       "interactive(children=(IntSlider(value=45, description='max_inc', max=90), Output()), _dom_classes=('widget-int…"
      ]
     },
     "metadata": {},
     "output_type": "display_data"
    }
   ],
   "source": [
    "@interact\n",
    "def sample_interactive_plot(max_inc=(0, 90, 1)):\n",
    "    p = rocks[rocks.inc.deg < max_inc]\n",
    "    return p.plot_radec()"
   ]
  }
 ],
 "metadata": {
  "kernelspec": {
   "display_name": "Python 3",
   "language": "python",
   "name": "python3"
  },
  "language_info": {
   "codemirror_mode": {
    "name": "ipython",
    "version": 3
   },
   "file_extension": ".py",
   "mimetype": "text/x-python",
   "name": "python",
   "nbconvert_exporter": "python",
   "pygments_lexer": "ipython3",
   "version": "3.7.3"
  }
 },
 "nbformat": 4,
 "nbformat_minor": 2
}
