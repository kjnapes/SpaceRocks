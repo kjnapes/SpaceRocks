{
 "cells": [
  {
   "cell_type": "markdown",
   "metadata": {},
   "source": [
    "# SpaceRocks\n",
    "\n",
    "### Vectorized coordinate transformation and ephemeris calculation with robust unit handling."
   ]
  },
  {
   "cell_type": "markdown",
   "metadata": {},
   "source": [
    "To install, simply `pip install spacerocks`"
   ]
  },
  {
   "cell_type": "code",
   "execution_count": null,
   "metadata": {},
   "outputs": [],
   "source": [
    "from spacerocks import SpaceRock\n",
    "import numpy as np"
   ]
  },
  {
   "cell_type": "markdown",
   "metadata": {},
   "source": [
    "All of the methods have docstrings in here."
   ]
  },
  {
   "cell_type": "code",
   "execution_count": null,
   "metadata": {
    "scrolled": false
   },
   "outputs": [],
   "source": [
    "help(SpaceRock)"
   ]
  },
  {
   "cell_type": "markdown",
   "metadata": {},
   "source": [
    "Define the distribution of objects. For Keplerian coordinates, you can use either epoch or mean anomaly."
   ]
  },
  {
   "cell_type": "code",
   "execution_count": null,
   "metadata": {},
   "outputs": [],
   "source": [
    "N = int(1e3)\n",
    "a = np.random.uniform(30, 31, N)\n",
    "e = np.random.uniform(0, 0.5, N)\n",
    "inc = np.random.rayleigh(np.pi/15, N)\n",
    "arg = np.random.uniform(0, 2*np.pi, N)\n",
    "node = np.random.uniform(0, 2*np.pi, N)\n",
    "obs_date = np.ones(N) * 2480000\n",
    "H = np.random.uniform(4, 7, N)\n",
    "\n",
    "# It doesn't matter which one you use.\n",
    "epoch = np.random.uniform(2400000, 2480000, N)\n",
    "M = np.random.uniform(0, 2*np.pi, N)"
   ]
  },
  {
   "cell_type": "markdown",
   "metadata": {},
   "source": [
    "Call the class SpaceRock. The default settings are as described in the help page. All arguments and keyword arguments are case-insensitive.\n",
    "\n",
    "- input_coordinates can be Keplerian or Cartesian\n",
    "- input_frame can be Barycentric or Heliocentric \n",
    "- input_angles can be radians or degrees\n",
    "- NSIDE is a list (or an array) of the NSIDE healpix values you want calculated.\n",
    "\n",
    "It's vectorized, so you can pass in as many objects as you want. Note that tau is the observation date."
   ]
  },
  {
   "cell_type": "code",
   "execution_count": null,
   "metadata": {},
   "outputs": [],
   "source": [
    "rocks = SpaceRock(a=a, \n",
    "                  e=e, \n",
    "                  inc=inc, \n",
    "                  arg=arg, \n",
    "                  node=node, \n",
    "                  epoch=epoch, \n",
    "                  tau=obs_date,\n",
    "                  H=H,\n",
    "                  name=['rock{}'.format(idx) for idx in range(N)], # default is a random 10-digit integer.\n",
    "                  NSIDE=[128, 256, 1024],\n",
    "                  precise=False,\n",
    "                  input_coordinates='keplerian',\n",
    "                  input_frame='barycentric',\n",
    "                  input_angles='radians')"
   ]
  },
  {
   "cell_type": "markdown",
   "metadata": {},
   "source": [
    "You can get a look at the data by writing it to either a pandas dataframe of an astropy table. In my opinion pandas dataframes are nicer to work with, but they don't support astropy units (yet)."
   ]
  },
  {
   "cell_type": "code",
   "execution_count": null,
   "metadata": {},
   "outputs": [],
   "source": [
    "rocks_df = rocks.pandas_df()\n",
    "rocks_df.head()"
   ]
  },
  {
   "cell_type": "code",
   "execution_count": null,
   "metadata": {},
   "outputs": [],
   "source": [
    "rocks_table = rocks.astropy_table()\n",
    "rocks_table[:5]"
   ]
  },
  {
   "cell_type": "markdown",
   "metadata": {},
   "source": [
    "You can also pass in just a single object. I'll try BP519. Here I've turned on precision. This involves a non-vectorized solution to Kepler's equation to calculate the eccentric anomaly, and a topocentric correction to the Earth's position. Right now, only DECam is supported, but I'm working on implementing an obscode feature."
   ]
  },
  {
   "cell_type": "code",
   "execution_count": null,
   "metadata": {},
   "outputs": [],
   "source": [
    "BP = SpaceRock(a=4.490784528803734E+02, \n",
    "               e=9.215119038599956E-01, \n",
    "               inc=5.411067896592579E+01, \n",
    "               arg=3.480604843629308E+02, \n",
    "               node=1.352131890380128E+02, \n",
    "               epoch=2458285.5, \n",
    "               tau=2458385.5,\n",
    "               H=4.4, \n",
    "               name='BP',\n",
    "               precise=True,\n",
    "               input_coordinates='keplerian',\n",
    "               input_frame='barycentric',\n",
    "               input_angles='degrees')"
   ]
  },
  {
   "cell_type": "markdown",
   "metadata": {},
   "source": [
    "Printing out the results:"
   ]
  },
  {
   "cell_type": "code",
   "execution_count": null,
   "metadata": {},
   "outputs": [],
   "source": [
    "BP.pandas_df()"
   ]
  },
  {
   "cell_type": "markdown",
   "metadata": {},
   "source": [
    "You can also go between heliocentric and barycentric coordinates with the to_helio() and to_bary() methods."
   ]
  },
  {
   "cell_type": "code",
   "execution_count": null,
   "metadata": {},
   "outputs": [],
   "source": [
    "BP_helio = BP.to_helio()\n",
    "BP_helio.pandas_df()"
   ]
  },
  {
   "cell_type": "code",
   "execution_count": null,
   "metadata": {},
   "outputs": [],
   "source": [
    "BP_bary = BP_helio.to_bary()\n",
    "BP_bary == BP"
   ]
  },
  {
   "cell_type": "markdown",
   "metadata": {},
   "source": [
    "You can predict the position of a lot of objects at a given date"
   ]
  },
  {
   "cell_type": "code",
   "execution_count": null,
   "metadata": {},
   "outputs": [],
   "source": [
    "rocks = SpaceRock(a=a, \n",
    "                  e=e, \n",
    "                  inc=inc, \n",
    "                  arg=arg, \n",
    "                  node=node, \n",
    "                  epoch=epoch, \n",
    "                  tau=obs_date,\n",
    "                  H=H,\n",
    "                  name=['rock{}'.format(idx) for idx in range(N)], # default is a random 10-digit integer.\n",
    "                  NSIDE=[128, 256, 1024],\n",
    "                  precise=False,\n",
    "                  input_coordinates='keplerian',\n",
    "                  input_frame='barycentric',\n",
    "                  input_angles='radians')\n",
    "\n",
    "rocks_tomorrow = rocks.predict(2458385.5)\n",
    "rocks_tomorrow.pandas_df().head()"
   ]
  },
  {
   "cell_type": "markdown",
   "metadata": {},
   "source": [
    "Or if you want, you can predice the position of a lot of objects at a lot of different dates."
   ]
  },
  {
   "cell_type": "code",
   "execution_count": null,
   "metadata": {},
   "outputs": [],
   "source": [
    "rocks_on_many_days = rocks.predict(np.random.uniform(2458385.5, 2868985.5, N))\n",
    "rocks_on_many_days.pandas_df().head()"
   ]
  },
  {
   "cell_type": "markdown",
   "metadata": {},
   "source": [
    "You can calculate the predicted position of the same object at many dates. This could probably be cleaner, but it may take some doing to implement."
   ]
  },
  {
   "cell_type": "code",
   "execution_count": null,
   "metadata": {},
   "outputs": [],
   "source": [
    "N = 100\n",
    "BP = SpaceRock(a=np.repeat(4.490784528803734E+02, N), \n",
    "               e=np.repeat(9.215119038599956E-01, N), \n",
    "               inc=np.repeat(5.411067896592579E+01, N), \n",
    "               arg=np.repeat(3.480604843629308E+02, N), \n",
    "               node=np.repeat(1.352131890380128E+02, N), \n",
    "               epoch=np.repeat(2458285.5, N), \n",
    "               tau=np.linspace(2058285.5, 2458285.5, N),\n",
    "               H=np.repeat(4.4, N), \n",
    "               name=['rock{}'.format(idx) for idx in range(N)],\n",
    "               precise=False,\n",
    "               input_coordinates='keplerian',\n",
    "               input_frame='barycentric',\n",
    "               input_angles='degrees')"
   ]
  },
  {
   "cell_type": "markdown",
   "metadata": {},
   "source": [
    "You quickly plot the equatorial position. "
   ]
  },
  {
   "cell_type": "code",
   "execution_count": null,
   "metadata": {},
   "outputs": [],
   "source": [
    "BP.plot_radec('red')"
   ]
  },
  {
   "cell_type": "markdown",
   "metadata": {},
   "source": [
    "If you want to keep your calculations, you can write them to a file like this."
   ]
  },
  {
   "cell_type": "code",
   "execution_count": null,
   "metadata": {},
   "outputs": [],
   "source": [
    "path = '/wherever/you/want/the/file.csv'\n",
    "BP.write_to_csv(path)"
   ]
  }
 ],
 "metadata": {
  "kernelspec": {
   "display_name": "Python 3",
   "language": "python",
   "name": "python3"
  },
  "language_info": {
   "codemirror_mode": {
    "name": "ipython",
    "version": 3
   },
   "file_extension": ".py",
   "mimetype": "text/x-python",
   "name": "python",
   "nbconvert_exporter": "python",
   "pygments_lexer": "ipython3",
   "version": "3.7.3"
  }
 },
 "nbformat": 4,
 "nbformat_minor": 2
}
