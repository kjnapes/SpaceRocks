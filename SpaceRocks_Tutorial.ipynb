{
 "cells": [
  {
   "cell_type": "markdown",
   "metadata": {},
   "source": [
    "# SpaceRocks\n",
    "\n",
    "### Vectorized coordinate transformation and ephemeris calculation with robust unit handling."
   ]
  },
  {
   "cell_type": "markdown",
   "metadata": {},
   "source": [
    "To install, simply `pip install spacerocks`"
   ]
  },
  {
   "cell_type": "code",
   "execution_count": 1,
   "metadata": {},
   "outputs": [],
   "source": [
    "from spacerocks import SpaceRock\n",
    "import numpy as np"
   ]
  },
  {
   "cell_type": "markdown",
   "metadata": {},
   "source": [
    "You can also pass in just a single object or an array of objects. I'll try BP519. Here I've turned on precision. This involves a non-vectorized solution to Kepler's equation to calculate the eccentric anomaly, and a topocentric correction to the Earth's position. Right now, only DECam is supported, but I'm working on implementing an obscode feature."
   ]
  },
  {
   "cell_type": "code",
   "execution_count": 2,
   "metadata": {
    "scrolled": false
   },
   "outputs": [],
   "source": [
    "BP = SpaceRock(a=4.487673062316562E+02, \n",
    "               e=9.214543710796702E-01, \n",
    "               inc=5.411068217470999E+01, \n",
    "               arg=3.480587931444684E+02, \n",
    "               node=1.352131434907198E+02, \n",
    "               epoch=2.473015776611103E+06, \n",
    "               tau=2458982.5,\n",
    "               H=4.5, \n",
    "               name='BP',\n",
    "               precise=True,\n",
    "               input_coordinates='keplerian',\n",
    "               input_frame='barycentric',\n",
    "               input_angles='degrees',\n",
    "               obscode=None)"
   ]
  },
  {
   "cell_type": "code",
   "execution_count": 3,
   "metadata": {},
   "outputs": [],
   "source": [
    "in_data, out_data = BP.propagate(np.array([2458981.5, 2458983.5]))"
   ]
  },
  {
   "cell_type": "code",
   "execution_count": 4,
   "metadata": {},
   "outputs": [
    {
     "data": {
      "text/html": [
       "<div>\n",
       "<style scoped>\n",
       "    .dataframe tbody tr th:only-of-type {\n",
       "        vertical-align: middle;\n",
       "    }\n",
       "\n",
       "    .dataframe tbody tr th {\n",
       "        vertical-align: top;\n",
       "    }\n",
       "\n",
       "    .dataframe thead th {\n",
       "        text-align: right;\n",
       "    }\n",
       "</style>\n",
       "<table border=\"1\" class=\"dataframe\">\n",
       "  <thead>\n",
       "    <tr style=\"text-align: right;\">\n",
       "      <th></th>\n",
       "      <th>name</th>\n",
       "      <th>a</th>\n",
       "      <th>e</th>\n",
       "      <th>inc</th>\n",
       "      <th>arg</th>\n",
       "      <th>node</th>\n",
       "      <th>varpi</th>\n",
       "      <th>epoch</th>\n",
       "      <th>M</th>\n",
       "      <th>tau</th>\n",
       "      <th>...</th>\n",
       "      <th>vz</th>\n",
       "      <th>ra</th>\n",
       "      <th>dec</th>\n",
       "      <th>delta</th>\n",
       "      <th>ltt</th>\n",
       "      <th>phase_angle</th>\n",
       "      <th>elong</th>\n",
       "      <th>r</th>\n",
       "      <th>H</th>\n",
       "      <th>mag</th>\n",
       "    </tr>\n",
       "  </thead>\n",
       "  <tbody>\n",
       "    <tr>\n",
       "      <th>0</th>\n",
       "      <td>BP</td>\n",
       "      <td>448.767310</td>\n",
       "      <td>0.921454</td>\n",
       "      <td>0.94441</td>\n",
       "      <td>6.074772</td>\n",
       "      <td>2.359915</td>\n",
       "      <td>2.151501</td>\n",
       "      <td>2.473016e+06</td>\n",
       "      <td>6.257774</td>\n",
       "      <td>2458981.5</td>\n",
       "      <td>...</td>\n",
       "      <td>0.001769</td>\n",
       "      <td>1.191740</td>\n",
       "      <td>-0.546574</td>\n",
       "      <td>52.016791</td>\n",
       "      <td>0.000823</td>\n",
       "      <td>0.015611</td>\n",
       "      <td>0.921327</td>\n",
       "      <td>51.413602</td>\n",
       "      <td>4.5</td>\n",
       "      <td>21.636108</td>\n",
       "    </tr>\n",
       "    <tr>\n",
       "      <th>1</th>\n",
       "      <td>BP</td>\n",
       "      <td>448.767303</td>\n",
       "      <td>0.921454</td>\n",
       "      <td>0.94441</td>\n",
       "      <td>6.074772</td>\n",
       "      <td>2.359915</td>\n",
       "      <td>2.151501</td>\n",
       "      <td>2.473016e+06</td>\n",
       "      <td>6.257777</td>\n",
       "      <td>2458983.5</td>\n",
       "      <td>...</td>\n",
       "      <td>0.001770</td>\n",
       "      <td>1.192571</td>\n",
       "      <td>-0.546309</td>\n",
       "      <td>52.015771</td>\n",
       "      <td>0.000822</td>\n",
       "      <td>0.015579</td>\n",
       "      <td>0.918266</td>\n",
       "      <td>51.409983</td>\n",
       "      <td>4.5</td>\n",
       "      <td>21.635912</td>\n",
       "    </tr>\n",
       "  </tbody>\n",
       "</table>\n",
       "<p>2 rows × 25 columns</p>\n",
       "</div>"
      ],
      "text/plain": [
       "  name           a         e      inc       arg      node     varpi  \\\n",
       "0   BP  448.767310  0.921454  0.94441  6.074772  2.359915  2.151501   \n",
       "1   BP  448.767303  0.921454  0.94441  6.074772  2.359915  2.151501   \n",
       "\n",
       "          epoch         M        tau  ...        vz        ra       dec  \\\n",
       "0  2.473016e+06  6.257774  2458981.5  ...  0.001769  1.191740 -0.546574   \n",
       "1  2.473016e+06  6.257777  2458983.5  ...  0.001770  1.192571 -0.546309   \n",
       "\n",
       "       delta       ltt  phase_angle     elong          r    H        mag  \n",
       "0  52.016791  0.000823     0.015611  0.921327  51.413602  4.5  21.636108  \n",
       "1  52.015771  0.000822     0.015579  0.918266  51.409983  4.5  21.635912  \n",
       "\n",
       "[2 rows x 25 columns]"
      ]
     },
     "execution_count": 4,
     "metadata": {},
     "output_type": "execute_result"
    }
   ],
   "source": [
    "BP.pandas_df()"
   ]
  },
  {
   "cell_type": "code",
   "execution_count": 5,
   "metadata": {},
   "outputs": [
    {
     "data": {
      "text/html": [
       "<i>Table length=2</i>\n",
       "<table id=\"table4463061760\" class=\"table-striped table-bordered table-condensed\">\n",
       "<thead><tr><th>name</th><th>a</th><th>e</th><th>inc</th><th>arg</th><th>node</th><th>varpi</th><th>epoch</th><th>M</th><th>tau</th><th>x</th><th>y</th><th>z</th><th>vx</th><th>vy</th><th>vz</th><th>ra</th><th>dec</th><th>delta</th><th>ltt</th><th>phase_angle</th><th>elong</th><th>r</th><th>H</th><th>mag</th></tr></thead>\n",
       "<thead><tr><th></th><th>AU</th><th></th><th>rad</th><th>rad</th><th>rad</th><th>rad</th><th></th><th>rad</th><th>d</th><th>AU</th><th>AU</th><th>AU</th><th>AU / d</th><th>AU / d</th><th>AU / d</th><th>rad</th><th>rad</th><th>AU</th><th>yr</th><th>rad</th><th>rad</th><th>AU</th><th></th><th></th></tr></thead>\n",
       "<thead><tr><th>str2</th><th>float64</th><th>float64</th><th>float64</th><th>float64</th><th>float64</th><th>float64</th><th>float64</th><th>float64</th><th>float64</th><th>float64</th><th>float64</th><th>float64</th><th>float64</th><th>float64</th><th>float64</th><th>float64</th><th>float64</th><th>float64</th><th>float64</th><th>float64</th><th>float64</th><th>float64</th><th>float64</th><th>float64</th></tr></thead>\n",
       "<tr><td>BP</td><td>448.7673098667584</td><td>0.9214543718805092</td><td>0.9444095643643519</td><td>6.07477193334006</td><td>2.359914546608229</td><td>2.151501172768702</td><td>2473015.776619866</td><td>6.257773775967611</td><td>2458981.5</td><td>15.809048421340117</td><td>26.340028533411026</td><td>-41.226633488621005</td><td>-0.0026543119001561557</td><td>0.0008306485702418893</td><td>0.001769426786213318</td><td>1.1917402648264872</td><td>-0.5465739069061355</td><td>52.016790963408646</td><td>0.0008225158925439914</td><td>0.015610940292436336</td><td>0.921327447399613</td><td>51.41360154603323</td><td>4.5</td><td>21.63610791754458</td></tr>\n",
       "<tr><td>BP</td><td>448.7673025861925</td><td>0.921454370276967</td><td>0.9444095645333433</td><td>6.074771928436547</td><td>2.359914545162052</td><td>2.1515011664190133</td><td>2473015.7766023455</td><td>6.257777396733507</td><td>2458983.5</td><td>15.80373972860536</td><td>26.34168971569345</td><td>-41.223094455275834</td><td>-0.0026543808305721753</td><td>0.0008305337074614667</td><td>0.001769606562654008</td><td>1.192571270408945</td><td>-0.546308880191513</td><td>52.015770998641685</td><td>0.0008224997643435561</td><td>0.015578678530211205</td><td>0.9182658967408692</td><td>51.40998271693896</td><td>4.5</td><td>21.63591249012105</td></tr>\n",
       "</table>"
      ],
      "text/plain": [
       "<Table length=2>\n",
       "name         a                 e          ...    H           mag       \n",
       "             AU                           ...                          \n",
       "str2      float64           float64       ... float64      float64     \n",
       "---- ----------------- ------------------ ... ------- -----------------\n",
       "  BP 448.7673098667584 0.9214543718805092 ...     4.5 21.63610791754458\n",
       "  BP 448.7673025861925  0.921454370276967 ...     4.5 21.63591249012105"
      ]
     },
     "execution_count": 5,
     "metadata": {},
     "output_type": "execute_result"
    }
   ],
   "source": [
    "BP.astropy_table()"
   ]
  },
  {
   "cell_type": "code",
   "execution_count": 5,
   "metadata": {},
   "outputs": [
    {
     "data": {
      "text/plain": [
       "(hms_tuple(h=array([4., 4.]), m=array([33., 33.]), s=array([ 7.60498809, 19.03213512])),\n",
       " dms_tuple(d=array([-31., -31.]), m=array([-18., -18.]), s=array([-58.96100771,  -4.29532377])))"
      ]
     },
     "execution_count": 5,
     "metadata": {},
     "output_type": "execute_result"
    }
   ],
   "source": [
    "BP.ra.hms, BP.dec.dms"
   ]
  },
  {
   "cell_type": "code",
   "execution_count": null,
   "metadata": {},
   "outputs": [],
   "source": [
    "# geo    04 33 13.31    -31 18 31.2\n",
    "# 304    04 33 13.30    -31 18 31.1"
   ]
  },
  {
   "cell_type": "code",
   "execution_count": 5,
   "metadata": {},
   "outputs": [
    {
     "name": "stderr",
     "output_type": "stream",
     "text": [
      "/usr/local/bin/anaconda/lib/python3.7/site-packages/astropy/units/quantity.py:481: RuntimeWarning: invalid value encountered in arccos\n",
      "  result = super().__array_ufunc__(function, method, *arrays, **kwargs)\n"
     ]
    },
    {
     "name": "stdout",
     "output_type": "stream",
     "text": [
      "2.64 s ± 80.9 ms per loop (mean ± std. dev. of 7 runs, 1 loop each)\n"
     ]
    }
   ],
   "source": [
    "N = 1000\n",
    "rocks = SpaceRock(a=np.random.uniform(30, 40, N), \n",
    "                  e=np.random.uniform(0, 0.999, N), \n",
    "                  inc=np.random.rayleigh(np.pi/6, N), \n",
    "                  arg=np.random.uniform(0, 2*np.pi, N), \n",
    "                  node=np.random.uniform(0, 2*np.pi, N), \n",
    "                  epoch=np.random.uniform(2473015.5, 2483015.5, N),\n",
    "                  tau=2458982.5 + np.random.rand(N)*365,\n",
    "                  H=np.random.uniform(4, 7, N), \n",
    "                  name=['rock{}'.format(idx) for idx in range(N)],\n",
    "                  precise=True,\n",
    "                  input_coordinates='keplerian',\n",
    "                  input_frame='barycentric',\n",
    "                  input_angles='degrees')\n",
    "\n"
   ]
  },
  {
   "cell_type": "code",
   "execution_count": null,
   "metadata": {},
   "outputs": [],
   "source": [
    "in_data, out_data = rocks.propagate(2459982.5)"
   ]
  },
  {
   "cell_type": "code",
   "execution_count": 3,
   "metadata": {},
   "outputs": [],
   "source": [
    "import pandas as pd\n",
    "from astropy.coordinates import earth\n",
    "pd.options.mode.chained_assignment = None\n",
    "\n",
    "observatories = pd.read_json('/Users/kjnapier/research/spacerocks/spacerocks/obscodes_extended.json').T\n",
    "observatories['obscode'] = observatories.index\n",
    "todrop = observatories[observatories.Latitude.isnull().values].index\n",
    "observatories = observatories.drop(todrop)\n",
    "observatories['Latitude'] = np.degrees(observatories.Latitude.values.astype(float))\n",
    "observatories['Longitude'][observatories.Longitude.values > 180] -= 360\n",
    "observatories = observatories.rename(columns={'Latitude': 'lat',\n",
    "                                              'Longitude': 'lon',\n",
    "                                              'Geocentric_dist': 'geocentric_dist',\n",
    "                                              'Name': 'name'})\n",
    "observatories = observatories.drop(columns=['cos', 'sin'])\n",
    "\n",
    "elevations = np.zeros(len(observatories))\n",
    "# This function isn't vectorized???\n",
    "for idx in range(len(observatories)):\n",
    "    x, y, z = earth.EarthLocation(lat=observatories.lat.values[idx],\n",
    "                                  lon=observatories.lon.values[idx],\n",
    "                                  height=0).value\n",
    "    ellipsoid_edge = np.sqrt(x**2 + y**2 + z**2)\n",
    "    elevations[idx] = 6378137 * observatories.geocentric_dist.values[idx] - ellipsoid_edge\n",
    "\n",
    "observatories['elevation'] = elevations\n",
    "observatories = observatories.drop(columns=['geocentric_dist'])\n",
    "observatories = observatories[['obscode', 'lat', 'lon', 'elevation', 'name']]\n",
    "#observatories['lat'] = [str(abs(ii)) + ' N' if ii > 0 else str(abs(ii)) + ' S' \\\n",
    "#                        for ii in observatories.lat]\n",
    "#observatories['lon'] = [str(abs(ii)) + ' E' if ii > 0 else str(abs(ii)) + ' W' \\\n",
    "#                        for ii in observatories.lon]\n",
    "observatories.to_csv('/Users/kjnapier/research/spacerocks/spacerocks/observatories.csv', index=False)\n"
   ]
  },
  {
   "cell_type": "code",
   "execution_count": null,
   "metadata": {},
   "outputs": [],
   "source": []
  }
 ],
 "metadata": {
  "kernelspec": {
   "display_name": "Python 3",
   "language": "python",
   "name": "python3"
  },
  "language_info": {
   "codemirror_mode": {
    "name": "ipython",
    "version": 3
   },
   "file_extension": ".py",
   "mimetype": "text/x-python",
   "name": "python",
   "nbconvert_exporter": "python",
   "pygments_lexer": "ipython3",
   "version": "3.7.3"
  }
 },
 "nbformat": 4,
 "nbformat_minor": 2
}
